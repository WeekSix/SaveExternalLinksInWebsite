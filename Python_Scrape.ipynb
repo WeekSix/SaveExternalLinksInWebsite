{
 "cells": [
  {
   "cell_type": "code",
   "execution_count": 1,
   "metadata": {},
   "outputs": [],
   "source": [
    "from requests_html import HTMLSession  #读入网页加以解析抓取"
   ]
  },
  {
   "cell_type": "code",
   "execution_count": 2,
   "metadata": {},
   "outputs": [],
   "source": [
    "session = HTMLSession() #建立会话"
   ]
  },
  {
   "cell_type": "code",
   "execution_count": 81,
   "metadata": {},
   "outputs": [],
   "source": [
    "url = 'https://zhuanlan.zhihu.com/p/60246173' #采集信息的网页，粗存到url变量中"
   ]
  },
  {
   "cell_type": "code",
   "execution_count": 82,
   "metadata": {},
   "outputs": [],
   "source": [
    "r = session.get(url) #取回页面"
   ]
  },
  {
   "cell_type": "code",
   "execution_count": 83,
   "metadata": {},
   "outputs": [
    {
     "name": "stdout",
     "output_type": "stream",
     "text": [
      "整理了70个Python实战项目列表，都有完整且详细的教程 - 知乎\n",
      ".u-safeAreaInset-top { height: constant(safe-area-inset-top) !important; height: env(safe-area-inset-top) !important; } .u-safeAreaInset-bottom { height: constant(safe-area-inset-bottom) !important; height: env(safe-area-inset-bottom) !important; }\n",
      "if (window.requestAnimationFrame) { window.requestAnimationFrame(function() { window.FIRST_ANIMATION_FRAME = Date.now(); }); }\n",
      "写文章\n",
      "整理了70个Python实战项目列表，都有完整且详细的教程\n",
      "张小森\n",
      "6,563 人赞同了该文章\n",
      "不管学习那门语言都希望能做出实际的东西来，这个实际的东西当然就是项目啦，不用多说大家都知道学编程语言一定要做项目才行。\n",
      "这里整理了70个Python实战项目列表，都有完整且详细的教程，你可以从中选择自己想做的项目进行参考学习练手，你也可以从中寻找灵感去做自己的项目。\n",
      "70个Python项目列表：\n",
      "1、【Python 图片转字符画】\n",
      "2、【200行Python代码实现2048】\n",
      "3、【Python3 实现火车票查询工具】\n",
      "4、【高德API+Python解决租房问题 】\n",
      "5、【Python3 色情图片识别】\n",
      "6、【Python 破解验证码】\n",
      "7、【Python实现简单的Web服务器】\n",
      "8、【pygame开发打飞机游戏】\n",
      "9、【Django 搭建简易博客】\n",
      "10、【Python基于共现提取《釜山行》人物关系】\n",
      "11、【基于scrapy爬虫的天气数据采集(python)】\n",
      "12、【Flask 开发轻博客】\n",
      "13、【Python3 图片隐写术】\n",
      "14、【Python 实现简易 Shell】\n",
      "15、【使用 Python 解数学方程】\n",
      "16、【PyQt 实现简易浏览器】\n",
      "17、【神经网络实现手写字符识别系统 】\n",
      "18、【Python 实现简单画板】\n",
      "19、【Python实现3D建模工具】\n",
      "20、【NBA常规赛结果预测——利用Python进行比赛数据分析】\n",
      "21、【神经网络实现人脸识别任务】\n",
      "22、【Python文本解析器】\n",
      "23、【Python3 & OpenCV 视频转字符动画】\n",
      "24、【Python3 实现淘女郎照片爬虫 】\n",
      "25、【Python3实现简单的FTP认证服务器】\n",
      "26、【基于 Flask 与 MySQL 实现番剧推荐系统】\n",
      "27、【Python 实现端口扫描器】\n",
      "28、【使用 Python 3 编写系列实用脚本】\n",
      "29、【Python 实现康威生命游戏】\n",
      "30、【川普撞脸希拉里(基于 OpenCV 的面部特征交换) 】\n",
      "31、【Python 3 实现 Markdown 解析器】\n",
      "32、【Python 气象数据分析 -- 《Python 数据分析实战》】\n",
      "33、【Python实现键值数据库】\n",
      "34、【k-近邻算法实现手写数字识别系统】\n",
      "35、【ebay在线拍卖数据分析】\n",
      "36、【Python 实现英文新闻摘要自动提取 】\n",
      "37、【Python实现简易局域网视频聊天工具】\n",
      "38、【基于 Flask 及爬虫实现微信娱乐机器人】\n",
      "39、【Python实现Python解释器】\n",
      "40、【Python3基于Scapy实现DDos】\n",
      "41、【Python 实现密码强度检测器】\n",
      "42、【使用 Python 实现深度神经网络】\n",
      "43、【Python实现从excel读取数据并绘制成精美图像】\n",
      "44、【人机对战初体验:Python基于Pygame实现四子棋游戏】\n",
      "45、【Python3 实现可控制肉鸡的反向Shell】\n",
      "46、【Python打造漏洞扫描器 】\n",
      "47、【Python应用马尔可夫链算法实现随机文本生成】\n",
      "48、【数独游戏的Python实现与破解】\n",
      "49、【使用Python定制词云】\n",
      "50、【Python开发简单计算器】\n",
      "51、【Python 实现 FTP 弱口令扫描器】\n",
      "52、【Python实现Huffman编码解压缩文件】\n",
      "53、【Python实现Zip文件的暴力破解 】\n",
      "54、【Python3 智能裁切图片】\n",
      "55、【Python实现网站模拟登陆】\n",
      "56、【给Python3爬虫做一个界面.妹子图网实战】\n",
      "57、【Python 3 实现图片转彩色字符】\n",
      "58、【自联想器的 Python 实现】\n",
      "59、【Python 实现简单滤镜】\n",
      "60、【Flask 实现简单聊天室】\n",
      "61、【基于PyQt5 实现地图中定位相片拍摄位置】\n",
      "62、【Python实现模板引擎】\n",
      "63、【Python实现遗传算法求解n-queens问题】\n",
      "64、【Python3 实现命令行动态进度条】\n",
      "65、【Python 获取挂号信息并邮件通知】\n",
      "66、【Python实现java web项目远端自动化更新部署】\n",
      "67、【使用 Python3 编写 Github 自动周报生成器】\n",
      "68、【使用 Python 生成分形图片】\n",
      "69、【Python 实现 Redis 异步客户端】\n",
      "70、【Python 实现中文错别字高亮系统】\n",
      "最后：\n",
      "以上项目列表希望可以给你在Python学习中带来帮助~\n",
      "\n",
      "\n",
      "作者：实验楼\n",
      "链接：https://www.jianshu.com/p/b577a1655144\n",
      "来源：简书\n",
      "简书著作权归作者所有，任何形式的转载都请联系作者获得授权并注明出处。\n",
      "发布于 2019-03-24\n",
      "Python\n",
      "MySQL\n",
      "数据分析\n",
      "赞同 6.6K\n",
      "118 条评论\n",
      "分享\n",
      "收藏\n"
     ]
    },
    {
     "name": "stdout",
     "output_type": "stream",
     "text": [
      "{\"host\":\"zhihu.com\",\"protocol\":\"https:\",\"wwwHost\":\"www.zhihu.com\",\"zhuanlanHost\":\"zhuanlan.zhihu.com\",\"apiHost\":\"api.zhihu.com\"}{\"initialState\":{\"common\":{\"ask\":{}},\"loading\":{\"global\":{\"count\":0},\"local\":{\"env\\u002FgetIpinfo\\u002F\":false,\"article\\u002Fget\\u002F\":false,\"brand\\u002FgetUrl\\u002F\":false}},\"entities\":{\"users\":{\"xiao-bei-94-49\":{\"isFollowed\":false,\"avatarUrlTemplate\":\"https:\\u002F\\u002Fpic3.zhimg.com\\u002Fv2-5efee79abc85e75f6cc2c33083ca1931_{size}.jpg\",\"uid\":\"564884293357326336\",\"userType\":\"people\",\"isFollowing\":false,\"urlToken\":\"xiao-bei-94-49\",\"id\":\"45f6beb33a84a1d3b85a1595528d1b38\",\"description\":\"调参数师!\",\"name\":\"张小森\",\"isAdvertiser\":false,\"headline\":\"\",\"gender\":1,\"url\":\"\\u002Fpeople\\u002F45f6beb33a84a1d3b85a1595528d1b38\",\"avatarUrl\":\"https:\\u002F\\u002Fpic3.zhimg.com\\u002Fv2-5efee79abc85e75f6cc2c33083ca1931_l.jpg\",\"isOrg\":false,\"type\":\"people\",\"badge\":[],\"exposedMedal\":{\"medalId\":\"972477022068568064\",\"medalName\":\"备受瞩目\",\"avatarUrl\":\"https:\\u002F\\u002Fpic2.zhimg.com\\u002Fv2-cb6e5c42f3c7428aa80cf44ff4868a67_r.png\",\"miniAvatarUrl\":\"https:\\u002F\\u002Fpic4.zhimg.com\\u002Fv2-e8f194e35bb3a8bd187a957e8764d587_is.png\",\"description\":\"被 1000 个人关注\"}}},\"questions\":{},\"answers\":{},\"articles\":{\"60246173\":{\"trackUrl\":[\"https:\\u002F\\u002Fsugar.zhihu.com\\u002Fplutus_adreaper\\u002Fpage_monitor_log?si=__SESSIONID__&ti=__ATOKEN__&at=view&pf=__OS__&ed=__MEMBERID__&idfa=__IDFA__&imei=__IMEI__&androidid=__ANDROIDID__&oaid=__OAID__\"],\"id\":60246173,\"title\":\"整理了70个Python实战项目列表，都有完整且详细的教程\",\"type\":\"article\",\"excerptTitle\":\"\",\"url\":\"https:\\u002F\\u002Fzhuanlan.zhihu.com\\u002Fp\\u002F60246173\",\"imageUrl\":\"https:\\u002F\\u002Fpic1.zhimg.com\\u002Fv2-a8f748c59e9e180661827e5f1db2a018_b.jpg\",\"titleImage\":\"https:\\u002F\\u002Fpic1.zhimg.com\\u002Fv2-a8f748c59e9e180661827e5f1db2a018_b.jpg\",\"excerpt\":\"不管学习那门语言都希望能做出实际的东西来，这个实际的东西当然就是项目啦，不用多说大家都知道学编程语言一定要做项目才行。 这里整理了70个Python实战项目列表，都有完整且详细的教程，你可以从中选择自己想做的项目进行参考学习练手，你也可以从中寻找…\",\"created\":1553424850,\"updated\":1553424850,\"author\":{\"isFollowed\":false,\"avatarUrlTemplate\":\"https:\\u002F\\u002Fpic3.zhimg.com\\u002Fv2-5efee79abc85e75f6cc2c33083ca1931_{size}.jpg\",\"uid\":\"564884293357326336\",\"userType\":\"people\",\"isFollowing\":false,\"urlToken\":\"xiao-bei-94-49\",\"id\":\"45f6beb33a84a1d3b85a1595528d1b38\",\"description\":\"调参数师!\",\"name\":\"张小森\",\"isAdvertiser\":false,\"headline\":\"\",\"gender\":1,\"url\":\"\\u002Fpeople\\u002F45f6beb33a84a1d3b85a1595528d1b38\",\"avatarUrl\":\"https:\\u002F\\u002Fpic3.zhimg.com\\u002Fv2-5efee79abc85e75f6cc2c33083ca1931_l.jpg\",\"isOrg\":false,\"type\":\"people\",\"badge\":[],\"exposedMedal\":{\"medalId\":\"972477022068568064\",\"medalName\":\"备受瞩目\",\"avatarUrl\":\"https:\\u002F\\u002Fpic2.zhimg.com\\u002Fv2-cb6e5c42f3c7428aa80cf44ff4868a67_r.png\",\"miniAvatarUrl\":\"https:\\u002F\\u002Fpic4.zhimg.com\\u002Fv2-e8f194e35bb3a8bd187a957e8764d587_is.png\",\"description\":\"被 1000 个人关注\"}},\"commentPermission\":\"all\",\"state\":\"published\",\"imageWidth\":1100,\"imageHeight\":651,\"content\":\"\\u003Cp\\u003E不管学习那门语言都希望能做出实际的东西来，这个实际的东西当然就是项目啦，不用多说大家都知道学编程语言一定要做项目才行。\\u003Cbr\\u002F\\u003E 这里整理了70个Python实战项目列表，都有完整且详细的教程，你可以从中选择自己想做的项目进行参考学习练手，你也可以从中寻找灵感去做自己的项目。\\u003Cbr\\u002F\\u003E 70个Python项目列表：\\u003Cbr\\u002F\\u003E 1、\\u003Ca href=\\\"https:\\u002F\\u002Flink.zhihu.com\\u002F?target=https%3A\\u002F\\u002Flink.jianshu.com\\u002F%3Ft%3Dhttps%3A\\u002F\\u002Fwww.shiyanlou.com\\u002Fcourses\\u002F370\\\" class=\\\" wrap external\\\" target=\\\"_blank\\\" rel=\\\"nofollow noreferrer\\\"\\u003E【Python 图片转字符画】\\u003C\\u002Fa\\u003E\\u003Cbr\\u002F\\u003E2、\\u003Ca href=\\\"https:\\u002F\\u002Flink.zhihu.com\\u002F?target=https%3A\\u002F\\u002Flink.jianshu.com\\u002F%3Ft%3Dhttps%3A\\u002F\\u002Fwww.shiyanlou.com\\u002Fcourses\\u002F368\\\" class=\\\" wrap external\\\" target=\\\"_blank\\\" rel=\\\"nofollow noreferrer\\\"\\u003E【200行Python代码实现2048】\\u003C\\u002Fa\\u003E\\u003Cbr\\u002F\\u003E3、\\u003Ca href=\\\"https:\\u002F\\u002Flink.zhihu.com\\u002F?target=https%3A\\u002F\\u002Flink.jianshu.com\\u002F%3Ft%3Dhttps%3A\\u002F\\u002Fwww.shiyanlou.com\\u002Fcourses\\u002F623\\\" class=\\\" wrap external\\\" target=\\\"_blank\\\" rel=\\\"nofollow noreferrer\\\"\\u003E【Python3 实现火车票查询工具】\\u003C\\u002Fa\\u003E\\u003Cbr\\u002F\\u003E4、\\u003Ca href=\\\"https:\\u002F\\u002Flink.zhihu.com\\u002F?target=https%3A\\u002F\\u002Flink.jianshu.com\\u002F%3Ft%3Dhttps%3A\\u002F\\u002Fwww.shiyanlou.com\\u002Fcourses\\u002F599\\\" class=\\\" wrap external\\\" target=\\\"_blank\\\" rel=\\\"nofollow noreferrer\\\"\\u003E【高德API+Python解决租房问题 】\\u003C\\u002Fa\\u003E\\u003Cbr\\u002F\\u003E5、\\u003Ca href=\\\"https:\\u002F\\u002Flink.zhihu.com\\u002F?target=https%3A\\u002F\\u002Flink.jianshu.com\\u002F%3Ft%3Dhttps%3A\\u002F\\u002Fwww.shiyanlou.com\\u002Fcourses\\u002F589\\\" class=\\\" wrap external\\\" target=\\\"_blank\\\" rel=\\\"nofollow noreferrer\\\"\\u003E【Python3 色情图片识别】\\u003C\\u002Fa\\u003E\\u003Cbr\\u002F\\u003E6、\\u003Ca href=\\\"https:\\u002F\\u002Flink.zhihu.com\\u002F?target=https%3A\\u002F\\u002Flink.jianshu.com\\u002F%3Ft%3Dhttps%3A\\u002F\\u002Fwww.shiyanlou.com\\u002Fcourses\\u002F364\\\" class=\\\" wrap external\\\" target=\\\"_blank\\\" rel=\\\"nofollow noreferrer\\\"\\u003E【Python 破解验证码】\\u003C\\u002Fa\\u003E\\u003Cbr\\u002F\\u003E7、\\u003Ca href=\\\"https:\\u002F\\u002Flink.zhihu.com\\u002F?target=https%3A\\u002F\\u002Flink.jianshu.com\\u002F%3Ft%3Dhttps%3A\\u002F\\u002Fwww.shiyanlou.com\\u002Fcourses\\u002F552\\\" class=\\\" wrap external\\\" target=\\\"_blank\\\" rel=\\\"nofollow noreferrer\\\"\\u003E【Python实现简单的Web服务器】\\u003C\\u002Fa\\u003E\\u003Cbr\\u002F\\u003E8、\\u003Ca href=\\\"https:\\u002F\\u002Flink.zhihu.com\\u002F?target=https%3A\\u002F\\u002Flink.jianshu.com\\u002F%3Ft%3Dhttps%3A\\u002F\\u002Fwww.shiyanlou.com\\u002Fcourses\\u002F49\\\" class=\\\" wrap external\\\" target=\\\"_blank\\\" rel=\\\"nofollow noreferrer\\\"\\u003E【pygame开发打飞机游戏】\\u003C\\u002Fa\\u003E\\u003Cbr\\u002F\\u003E9、\\u003Ca href=\\\"https:\\u002F\\u002Flink.zhihu.com\\u002F?target=https%3A\\u002F\\u002Flink.jianshu.com\\u002F%3Ft%3Dhttps%3A\\u002F\\u002Fwww.shiyanlou.com\\u002Fcourses\\u002F487\\\" class=\\\" wrap external\\\" target=\\\"_blank\\\" rel=\\\"nofollow noreferrer\\\"\\u003E【Django 搭建简易博客】\\u003C\\u002Fa\\u003E\\u003Cbr\\u002F\\u003E10、\\u003Ca href=\\\"https:\\u002F\\u002Flink.zhihu.com\\u002F?target=https%3A\\u002F\\u002Flink.jianshu.com\\u002F%3Ft%3Dhttps%3A\\u002F\\u002Fwww.shiyanlou.com\\u002Fcourses\\u002F677\\\" class=\\\" wrap external\\\" target=\\\"_blank\\\" rel=\\\"nofollow noreferrer\\\"\\u003E【Python基于共现提取《釜山行》人物关系】\\u003C\\u002Fa\\u003E\\u003Cbr\\u002F\\u003E11、\\u003Ca href=\\\"https:\\u002F\\u002Flink.zhihu.com\\u002F?target=https%3A\\u002F\\u002Flink.jianshu.com\\u002F%3Ft%3Dhttps%3A\\u002F\\u002Fwww.shiyanlou.com\\u002Fcourses\\u002F142\\\" class=\\\" wrap external\\\" target=\\\"_blank\\\" rel=\\\"nofollow noreferrer\\\"\\u003E【基于scrapy爬虫的天气数据采集(python)】\\u003C\\u002Fa\\u003E\\u003Cbr\\u002F\\u003E12、\\u003Ca href=\\\"https:\\u002F\\u002Flink.zhihu.com\\u002F?target=https%3A\\u002F\\u002Flink.jianshu.com\\u002F%3Ft%3Dhttps%3A\\u002F\\u002Fwww.shiyanlou.com\\u002Fcourses\\u002F31\\\" class=\\\" wrap external\\\" target=\\\"_blank\\\" rel=\\\"nofollow noreferrer\\\"\\u003E【Flask 开发轻博客】\\u003C\\u002Fa\\u003E\\u003Cbr\\u002F\\u003E13、\\u003Ca href=\\\"https:\\u002F\\u002Flink.zhihu.com\\u002F?target=https%3A\\u002F\\u002Flink.jianshu.com\\u002F%3Ft%3Dhttps%3A\\u002F\\u002Fwww.shiyanlou.com\\u002Fcourses\\u002F651\\\" class=\\\" wrap external\\\" target=\\\"_blank\\\" rel=\\\"nofollow noreferrer\\\"\\u003E【Python3 图片隐写术】\\u003C\\u002Fa\\u003E\\u003Cbr\\u002F\\u003E14、\\u003Ca href=\\\"https:\\u002F\\u002Flink.zhihu.com\\u002F?target=https%3A\\u002F\\u002Flink.jianshu.com\\u002F%3Ft%3Dhttps%3A\\u002F\\u002Fwww.shiyanlou.com\\u002Fcourses\\u002F647\\\" class=\\\" wrap external\\\" target=\\\"_blank\\\" rel=\\\"nofollow noreferrer\\\"\\u003E【Python 实现简易 Shell】\\u003C\\u002Fa\\u003E\\u003Cbr\\u002F\\u003E15、\\u003Ca href=\\\"https:\\u002F\\u002Flink.zhihu.com\\u002F?target=https%3A\\u002F\\u002Flink.jianshu.com\\u002F%3Ft%3Dhttps%3A\\u002F\\u002Fwww.shiyanlou.com\\u002Fcourses\\u002F729\\\" class=\\\" wrap external\\\" target=\\\"_blank\\\" rel=\\\"nofollow noreferrer\\\"\\u003E【使用 Python 解数学方程】\\u003C\\u002Fa\\u003E\\u003Cbr\\u002F\\u003E16、\\u003Ca href=\\\"https:\\u002F\\u002Flink.zhihu.com\\u002F?target=https%3A\\u002F\\u002Flink.jianshu.com\\u002F%3Ft%3Dhttps%3A\\u002F\\u002Fwww.shiyanlou.com\\u002Fcourses\\u002F705\\\" class=\\\" wrap external\\\" target=\\\"_blank\\\" rel=\\\"nofollow noreferrer\\\"\\u003E【PyQt 实现简易浏览器】\\u003C\\u002Fa\\u003E\\u003Cbr\\u002F\\u003E17、\\u003Ca href=\\\"https:\\u002F\\u002Flink.zhihu.com\\u002F?target=https%3A\\u002F\\u002Flink.jianshu.com\\u002F%3Ft%3Dhttps%3A\\u002F\\u002Fwww.shiyanlou.com\\u002Fcourses\\u002F593\\\" class=\\\" wrap external\\\" target=\\\"_blank\\\" rel=\\\"nofollow noreferrer\\\"\\u003E【神经网络实现手写字符识别系统 】\\u003C\\u002Fa\\u003E\\u003Cbr\\u002F\\u003E18、\\u003Ca href=\\\"https:\\u002F\\u002Flink.zhihu.com\\u002F?target=https%3A\\u002F\\u002Flink.jianshu.com\\u002F%3Ft%3Dhttps%3A\\u002F\\u002Fwww.shiyanlou.com\\u002Fcourses\\u002F674\\\" class=\\\" wrap external\\\" target=\\\"_blank\\\" rel=\\\"nofollow noreferrer\\\"\\u003E【Python 实现简单画板】\\u003C\\u002Fa\\u003E\\u003Cbr\\u002F\\u003E19、\\u003Ca href=\\\"https:\\u002F\\u002Flink.zhihu.com\\u002F?target=https%3A\\u002F\\u002Flink.jianshu.com\\u002F%3Ft%3Dhttps%3A\\u002F\\u002Fwww.shiyanlou.com\\u002Fcourses\\u002F561\\\" class=\\\" wrap external\\\" target=\\\"_blank\\\" rel=\\\"nofollow noreferrer\\\"\\u003E【Python实现3D建模工具】\\u003C\\u002Fa\\u003E\\u003Cbr\\u002F\\u003E20、\\u003Ca href=\\\"https:\\u002F\\u002Flink.zhihu.com\\u002F?target=https%3A\\u002F\\u002Flink.jianshu.com\\u002F%3Ft%3Dhttps%3A\\u002F\\u002Fwww.shiyanlou.com\\u002Fcourses\\u002F782\\\" class=\\\" wrap external\\\" target=\\\"_blank\\\" rel=\\\"nofollow noreferrer\\\"\\u003E【NBA常规赛结果预测——利用Python进行比赛数据分析】\\u003C\\u002Fa\\u003E\\u003Cbr\\u002F\\u003E21、\\u003Ca href=\\\"https:\\u002F\\u002Flink.zhihu.com\\u002F?target=https%3A\\u002F\\u002Flink.jianshu.com\\u002F%3Ft%3Dhttps%3A\\u002F\\u002Fwww.shiyanlou.com\\u002Fcourses\\u002F707\\\" class=\\\" wrap external\\\" target=\\\"_blank\\\" rel=\\\"nofollow noreferrer\\\"\\u003E【神经网络实现人脸识别任务】\\u003C\\u002Fa\\u003E\\u003Cbr\\u002F\\u003E22、\\u003Ca href=\\\"https:\\u002F\\u002Flink.zhihu.com\\u002F?target=https%3A\\u002F\\u002Flink.jianshu.com\\u002F%3Ft%3Dhttps%3A\\u002F\\u002Fwww.shiyanlou.com\\u002Fcourses\\u002F70\\\" class=\\\" wrap external\\\" target=\\\"_blank\\\" rel=\\\"nofollow noreferrer\\\"\\u003E【Python文本解析器】\\u003C\\u002Fa\\u003E\\u003Cbr\\u002F\\u003E23、\\u003Ca href=\\\"https:\\u002F\\u002Flink.zhihu.com\\u002F?target=https%3A\\u002F\\u002Flink.jianshu.com\\u002F%3Ft%3Dhttps%3A\\u002F\\u002Fwww.shiyanlou.com\\u002Fcourses\\u002F637\\\" class=\\\" wrap external\\\" target=\\\"_blank\\\" rel=\\\"nofollow noreferrer\\\"\\u003E【Python3 & OpenCV 视频转字符动画】\\u003C\\u002Fa\\u003E\\u003Cbr\\u002F\\u003E24、\\u003Ca href=\\\"https:\\u002F\\u002Flink.zhihu.com\\u002F?target=https%3A\\u002F\\u002Flink.jianshu.com\\u002F%3Ft%3Dhttps%3A\\u002F\\u002Fwww.shiyanlou.com\\u002Fcourses\\u002F595\\\" class=\\\" wrap external\\\" target=\\\"_blank\\\" rel=\\\"nofollow noreferrer\\\"\\u003E【Python3 实现淘女郎照片爬虫 】\\u003C\\u002Fa\\u003E\\u003Cbr\\u002F\\u003E25、\\u003Ca href=\\\"https:\\u002F\\u002Flink.zhihu.com\\u002F?target=https%3A\\u002F\\u002Flink.jianshu.com\\u002F%3Ft%3Dhttps%3A\\u002F\\u002Fwww.shiyanlou.com\\u002Fcourses\\u002F725\\\" class=\\\" wrap external\\\" target=\\\"_blank\\\" rel=\\\"nofollow noreferrer\\\"\\u003E【Python3实现简单的FTP认证服务器】\\u003C\\u002Fa\\u003E\\u003Cbr\\u002F\\u003E26、\\u003Ca href=\\\"https:\\u002F\\u002Flink.zhihu.com\\u002F?target=https%3A\\u002F\\u002Flink.jianshu.com\\u002F%3Ft%3Dhttps%3A\\u002F\\u002Fwww.shiyanlou.com\\u002Fcourses\\u002F633\\\" class=\\\" wrap external\\\" target=\\\"_blank\\\" rel=\\\"nofollow noreferrer\\\"\\u003E【基于 Flask 与 MySQL 实现番剧推荐系统】\\u003C\\u002Fa\\u003E\\u003Cbr\\u002F\\u003E27、\\u003Ca href=\\\"https:\\u002F\\u002Flink.zhihu.com\\u002F?target=https%3A\\u002F\\u002Flink.jianshu.com\\u002F%3Ft%3Dhttps%3A\\u002F\\u002Fwww.shiyanlou.com\\u002Fcourses\\u002F495\\\" class=\\\" wrap external\\\" target=\\\"_blank\\\" rel=\\\"nofollow noreferrer\\\"\\u003E【Python 实现端口扫描器】\\u003C\\u002Fa\\u003E\\u003Cbr\\u002F\\u003E28、\\u003Ca href=\\\"https:\\u002F\\u002Flink.zhihu.com\\u002F?target=https%3A\\u002F\\u002Flink.jianshu.com\\u002F%3Ft%3Dhttps%3A\\u002F\\u002Fwww.shiyanlou.com\\u002Fcourses\\u002F580\\\" class=\\\" wrap external\\\" target=\\\"_blank\\\" rel=\\\"nofollow noreferrer\\\"\\u003E【使用 Python 3 编写系列实用脚本】\\u003C\\u002Fa\\u003E\\u003Cbr\\u002F\\u003E29、\\u003Ca href=\\\"https:\\u002F\\u002Flink.zhihu.com\\u002F?target=https%3A\\u002F\\u002Flink.jianshu.com\\u002F%3Ft%3Dhttps%3A\\u002F\\u002Fwww.shiyanlou.com\\u002Fcourses\\u002F769\\\" class=\\\" wrap external\\\" target=\\\"_blank\\\" rel=\\\"nofollow noreferrer\\\"\\u003E【Python 实现康威生命游戏】\\u003C\\u002Fa\\u003E\\u003Cbr\\u002F\\u003E30、\\u003Ca href=\\\"https:\\u002F\\u002Flink.zhihu.com\\u002F?target=https%3A\\u002F\\u002Flink.jianshu.com\\u002F%3Ft%3Dhttps%3A\\u002F\\u002Fwww.shiyanlou.com\\u002Fcourses\\u002F686\\\" class=\\\" wrap external\\\" target=\\\"_blank\\\" rel=\\\"nofollow noreferrer\\\"\\u003E【川普撞脸希拉里(基于 OpenCV 的面部特征交换) 】\\u003C\\u002Fa\\u003E\\u003Cbr\\u002F\\u003E31、\\u003Ca href=\\\"https:\\u002F\\u002Flink.zhihu.com\\u002F?target=https%3A\\u002F\\u002Flink.jianshu.com\\u002F%3Ft%3Dhttps%3A\\u002F\\u002Fwww.shiyanlou.com\\u002Fcourses\\u002F708\\\" class=\\\" wrap external\\\" target=\\\"_blank\\\" rel=\\\"nofollow noreferrer\\\"\\u003E【Python 3 实现 Markdown 解析器】\\u003C\\u002Fa\\u003E\\u003Cbr\\u002F\\u003E32、\\u003Ca href=\\\"https:\\u002F\\u002Flink.zhihu.com\\u002F?target=https%3A\\u002F\\u002Flink.jianshu.com\\u002F%3Ft%3Dhttps%3A\\u002F\\u002Fwww.shiyanlou.com\\u002Fcourses\\u002F780\\\" class=\\\" wrap external\\\" target=\\\"_blank\\\" rel=\\\"nofollow noreferrer\\\"\\u003E【Python 气象数据分析 -- 《Python 数据分析实战》】\\u003C\\u002Fa\\u003E\\u003Cbr\\u002F\\u003E33、\\u003Ca href=\\\"https:\\u002F\\u002Flink.zhihu.com\\u002F?target=https%3A\\u002F\\u002Flink.jianshu.com\\u002F%3Ft%3Dhttps%3A\\u002F\\u002Fwww.shiyanlou.com\\u002Fcourses\\u002F614\\\" class=\\\" wrap external\\\" target=\\\"_blank\\\" rel=\\\"nofollow noreferrer\\\"\\u003E【Python实现键值数据库】\\u003C\\u002Fa\\u003E\\u003Cbr\\u002F\\u003E34、\\u003Ca href=\\\"https:\\u002F\\u002Flink.zhihu.com\\u002F?target=https%3A\\u002F\\u002Flink.jianshu.com\\u002F%3Ft%3Dhttps%3A\\u002F\\u002Fwww.shiyanlou.com\\u002Fcourses\\u002F777\\\" class=\\\" wrap external\\\" target=\\\"_blank\\\" rel=\\\"nofollow noreferrer\\\"\\u003E【k-近邻算法实现手写数字识别系统】\\u003C\\u002Fa\\u003E\\u003Cbr\\u002F\\u003E35、\\u003Ca href=\\\"https:\\u002F\\u002Flink.zhihu.com\\u002F?target=https%3A\\u002F\\u002Flink.jianshu.com\\u002F%3Ft%3Dhttps%3A\\u002F\\u002Fwww.shiyanlou.com\\u002Fcourses\\u002F714\\\" class=\\\" wrap external\\\" target=\\\"_blank\\\" rel=\\\"nofollow noreferrer\\\"\\u003E【ebay在线拍卖数据分析】\\u003C\\u002Fa\\u003E\\u003Cbr\\u002F\\u003E36、\\u003Ca href=\\\"https:\\u002F\\u002Flink.zhihu.com\\u002F?target=https%3A\\u002F\\u002Flink.jianshu.com\\u002F%3Ft%3Dhttps%3A\\u002F\\u002Fwww.shiyanlou.com\\u002Fcourses\\u002F741\\\" class=\\\" wrap external\\\" target=\\\"_blank\\\" rel=\\\"nofollow noreferrer\\\"\\u003E【Python 实现英文新闻摘要自动提取 】\\u003C\\u002Fa\\u003E\\u003Cbr\\u002F\\u003E37、\\u003Ca href=\\\"https:\\u002F\\u002Flink.zhihu.com\\u002F?target=https%3A\\u002F\\u002Flink.jianshu.com\\u002F%3Ft%3Dhttps%3A\\u002F\\u002Fwww.shiyanlou.com\\u002Fcourses\\u002F672\\\" class=\\\" wrap external\\\" target=\\\"_blank\\\" rel=\\\"nofollow noreferrer\\\"\\u003E【Python实现简易局域网视频聊天工具】\\u003C\\u002Fa\\u003E\\u003Cbr\\u002F\\u003E38、\\u003Ca href=\\\"https:\\u002F\\u002Flink.zhihu.com\\u002F?target=https%3A\\u002F\\u002Flink.jianshu.com\\u002F%3Ft%3Dhttps%3A\\u002F\\u002Fwww.shiyanlou.com\\u002Fcourses\\u002F581\\\" class=\\\" wrap external\\\" target=\\\"_blank\\\" rel=\\\"nofollow noreferrer\\\"\\u003E【基于 Flask 及爬虫实现微信娱乐机器人】\\u003C\\u002Fa\\u003E\\u003Cbr\\u002F\\u003E39、\\u003Ca href=\\\"https:\\u002F\\u002Flink.zhihu.com\\u002F?target=https%3A\\u002F\\u002Flink.jianshu.com\\u002F%3Ft%3Dhttps%3A\\u002F\\u002Fwww.shiyanlou.com\\u002Fcourses\\u002F554\\\" class=\\\" wrap external\\\" target=\\\"_blank\\\" rel=\\\"nofollow noreferrer\\\"\\u003E【Python实现Python解释器】\\u003C\\u002Fa\\u003E\\u003Cbr\\u002F\\u003E40、\\u003Ca href=\\\"https:\\u002F\\u002Flink.zhihu.com\\u002F?target=https%3A\\u002F\\u002Flink.jianshu.com\\u002F%3Ft%3Dhttps%3A\\u002F\\u002Fwww.shiyanlou.com\\u002Fcourses\\u002F683\\\" class=\\\" wrap external\\\" target=\\\"_blank\\\" rel=\\\"nofollow noreferrer\\\"\\u003E【Python3基于Scapy实现DDos】\\u003C\\u002Fa\\u003E\\u003Cbr\\u002F\\u003E41、\\u003Ca href=\\\"https:\\u002F\\u002Flink.zhihu.com\\u002F?target=https%3A\\u002F\\u002Flink.jianshu.com\\u002F%3Ft%3Dhttps%3A\\u002F\\u002Fwww.shiyanlou.com\\u002Fcourses\\u002F712\\\" class=\\\" wrap external\\\" target=\\\"_blank\\\" rel=\\\"nofollow noreferrer\\\"\\u003E【Python 实现密码强度检测器】\\u003C\\u002Fa\\u003E\\u003Cbr\\u002F\\u003E42、\\u003Ca href=\\\"https:\\u002F\\u002Flink.zhihu.com\\u002F?target=https%3A\\u002F\\u002Flink.jianshu.com\\u002F%3Ft%3Dhttps%3A\\u002F\\u002Fwww.shiyanlou.com\\u002Fcourses\\u002F814\\\" class=\\\" wrap external\\\" target=\\\"_blank\\\" rel=\\\"nofollow noreferrer\\\"\\u003E【使用 Python 实现深度神经网络】\\u003C\\u002Fa\\u003E\\u003Cbr\\u002F\\u003E43、\\u003Ca href=\\\"https:\\u002F\\u002Flink.zhihu.com\\u002F?target=https%3A\\u002F\\u002Flink.jianshu.com\\u002F%3Ft%3Dhttps%3A\\u002F\\u002Fwww.shiyanlou.com\\u002Fcourses\\u002F791\\\" class=\\\" wrap external\\\" target=\\\"_blank\\\" rel=\\\"nofollow noreferrer\\\"\\u003E【Python实现从excel读取数据并绘制成精美图像】\\u003C\\u002Fa\\u003E\\u003Cbr\\u002F\\u003E44、\\u003Ca href=\\\"https:\\u002F\\u002Flink.zhihu.com\\u002F?target=https%3A\\u002F\\u002Flink.jianshu.com\\u002F%3Ft%3Dhttps%3A\\u002F\\u002Fwww.shiyanlou.com\\u002Fcourses\\u002F746\\\" class=\\\" wrap external\\\" target=\\\"_blank\\\" rel=\\\"nofollow noreferrer\\\"\\u003E【人机对战初体验:Python基于Pygame实现四子棋游戏】\\u003C\\u002Fa\\u003E\\u003Cbr\\u002F\\u003E45、\\u003Ca href=\\\"https:\\u002F\\u002Flink.zhihu.com\\u002F?target=https%3A\\u002F\\u002Flink.jianshu.com\\u002F%3Ft%3Dhttps%3A\\u002F\\u002Fwww.shiyanlou.com\\u002Fcourses\\u002F594\\\" class=\\\" wrap external\\\" target=\\\"_blank\\\" rel=\\\"nofollow noreferrer\\\"\\u003E【Python3 实现可控制肉鸡的反向Shell】\\u003C\\u002Fa\\u003E\\u003Cbr\\u002F\\u003E46、\\u003Ca href=\\\"https:\\u002F\\u002Flink.zhihu.com\\u002F?target=https%3A\\u002F\\u002Flink.jianshu.com\\u002F%3Ft%3Dhttps%3A\\u002F\\u002Fwww.shiyanlou.com\\u002Fcourses\\u002F761\\\" class=\\\" wrap external\\\" target=\\\"_blank\\\" rel=\\\"nofollow noreferrer\\\"\\u003E【Python打造漏洞扫描器 】\\u003C\\u002Fa\\u003E\\u003Cbr\\u002F\\u003E47、\\u003Ca href=\\\"https:\\u002F\\u002Flink.zhihu.com\\u002F?target=https%3A\\u002F\\u002Flink.jianshu.com\\u002F%3Ft%3Dhttps%3A\\u002F\\u002Fwww.shiyanlou.com\\u002Fcourses\\u002F678\\\" class=\\\" wrap external\\\" target=\\\"_blank\\\" rel=\\\"nofollow noreferrer\\\"\\u003E【Python应用马尔可夫链算法实现随机文本生成】\\u003C\\u002Fa\\u003E\\u003Cbr\\u002F\\u003E48、\\u003Ca href=\\\"https:\\u002F\\u002Flink.zhihu.com\\u002F?target=https%3A\\u002F\\u002Flink.jianshu.com\\u002F%3Ft%3Dhttps%3A\\u002F\\u002Fwww.shiyanlou.com\\u002Fcourses\\u002F728\\\" class=\\\" wrap external\\\" target=\\\"_blank\\\" rel=\\\"nofollow noreferrer\\\"\\u003E【数独游戏的Python实现与破解】\\u003C\\u002Fa\\u003E\\u003Cbr\\u002F\\u003E49、\\u003Ca href=\\\"https:\\u002F\\u002Flink.zhihu.com\\u002F?target=https%3A\\u002F\\u002Flink.jianshu.com\\u002F%3Ft%3Dhttps%3A\\u002F\\u002Fwww.shiyanlou.com\\u002Fcourses\\u002F756\\\" class=\\\" wrap external\\\" target=\\\"_blank\\\" rel=\\\"nofollow noreferrer\\\"\\u003E【使用Python定制词云】\\u003C\\u002Fa\\u003E\\u003Cbr\\u002F\\u003E50、\\u003Ca href=\\\"https:\\u002F\\u002Flink.zhihu.com\\u002F?target=https%3A\\u002F\\u002Flink.jianshu.com\\u002F%3Ft%3Dhttps%3A\\u002F\\u002Fwww.shiyanlou.com\\u002Fcourses\\u002F60\\\" class=\\\" wrap external\\\" target=\\\"_blank\\\" rel=\\\"nofollow noreferrer\\\"\\u003E【Python开发简单计算器】\\u003C\\u002Fa\\u003E\\u003Cbr\\u002F\\u003E51、\\u003Ca href=\\\"https:\\u002F\\u002Flink.zhihu.com\\u002F?target=https%3A\\u002F\\u002Flink.jianshu.com\\u002F%3Ft%3Dhttps%3A\\u002F\\u002Fwww.shiyanlou.com\\u002Fcourses\\u002F579\\\" class=\\\" wrap external\\\" target=\\\"_blank\\\" rel=\\\"nofollow noreferrer\\\"\\u003E【Python 实现 FTP 弱口令扫描器】\\u003C\\u002Fa\\u003E\\u003Cbr\\u002F\\u003E52、\\u003Ca href=\\\"https:\\u002F\\u002Flink.zhihu.com\\u002F?target=https%3A\\u002F\\u002Flink.jianshu.com\\u002F%3Ft%3Dhttps%3A\\u002F\\u002Fwww.shiyanlou.com\\u002Fcourses\\u002F734\\\" class=\\\" wrap external\\\" target=\\\"_blank\\\" rel=\\\"nofollow noreferrer\\\"\\u003E【Python实现Huffman编码解压缩文件】\\u003C\\u002Fa\\u003E\\u003Cbr\\u002F\\u003E53、\\u003Ca href=\\\"https:\\u002F\\u002Flink.zhihu.com\\u002F?target=https%3A\\u002F\\u002Flink.jianshu.com\\u002F%3Ft%3Dhttps%3A\\u002F\\u002Fwww.shiyanlou.com\\u002Fcourses\\u002F636\\\" class=\\\" wrap external\\\" target=\\\"_blank\\\" rel=\\\"nofollow noreferrer\\\"\\u003E【Python实现Zip文件的暴力破解 】\\u003C\\u002Fa\\u003E\\u003Cbr\\u002F\\u003E54、\\u003Ca href=\\\"https:\\u002F\\u002Flink.zhihu.com\\u002F?target=https%3A\\u002F\\u002Flink.jianshu.com\\u002F%3Ft%3Dhttps%3A\\u002F\\u002Fwww.shiyanlou.com\\u002Fcourses\\u002F655\\\" class=\\\" wrap external\\\" target=\\\"_blank\\\" rel=\\\"nofollow noreferrer\\\"\\u003E【Python3 智能裁切图片】\\u003C\\u002Fa\\u003E\\u003Cbr\\u002F\\u003E55、\\u003Ca href=\\\"https:\\u002F\\u002Flink.zhihu.com\\u002F?target=https%3A\\u002F\\u002Flink.jianshu.com\\u002F%3Ft%3Dhttps%3A\\u002F\\u002Fwww.shiyanlou.com\\u002Fcourses\\u002F640\\\" class=\\\" wrap external\\\" target=\\\"_blank\\\" rel=\\\"nofollow noreferrer\\\"\\u003E【Python实现网站模拟登陆】\\u003C\\u002Fa\\u003E\\u003Cbr\\u002F\\u003E56、\\u003Ca href=\\\"https:\\u002F\\u002Flink.zhihu.com\\u002F?target=https%3A\\u002F\\u002Flink.jianshu.com\\u002F%3Ft%3Dhttps%3A\\u002F\\u002Fwww.shiyanlou.com\\u002Fcourses\\u002F813\\\" class=\\\" wrap external\\\" target=\\\"_blank\\\" rel=\\\"nofollow noreferrer\\\"\\u003E【给Python3爬虫做一个界面.妹子图网实战】\\u003C\\u002Fa\\u003E\\u003Cbr\\u002F\\u003E57、\\u003Ca href=\\\"https:\\u002F\\u002Flink.zhihu.com\\u002F?target=https%3A\\u002F\\u002Flink.jianshu.com\\u002F%3Ft%3Dhttps%3A\\u002F\\u002Fwww.shiyanlou.com\\u002Fcourses\\u002F673\\\" class=\\\" wrap external\\\" target=\\\"_blank\\\" rel=\\\"nofollow noreferrer\\\"\\u003E【Python 3 实现图片转彩色字符】\\u003C\\u002Fa\\u003E\\u003Cbr\\u002F\\u003E58、\\u003Ca href=\\\"https:\\u002F\\u002Flink.zhihu.com\\u002F?target=https%3A\\u002F\\u002Flink.jianshu.com\\u002F%3Ft%3Dhttps%3A\\u002F\\u002Fwww.shiyanlou.com\\u002Fcourses\\u002F679\\\" class=\\\" wrap external\\\" target=\\\"_blank\\\" rel=\\\"nofollow noreferrer\\\"\\u003E【自联想器的 Python 实现】\\u003C\\u002Fa\\u003E\\u003Cbr\\u002F\\u003E59、\\u003Ca href=\\\"https:\\u002F\\u002Flink.zhihu.com\\u002F?target=https%3A\\u002F\\u002Flink.jianshu.com\\u002F%3Ft%3Dhttps%3A\\u002F\\u002Fwww.shiyanlou.com\\u002Fcourses\\u002F688\\\" class=\\\" wrap external\\\" target=\\\"_blank\\\" rel=\\\"nofollow noreferrer\\\"\\u003E【Python 实现简单滤镜】\\u003C\\u002Fa\\u003E\\u003Cbr\\u002F\\u003E60、\\u003Ca href=\\\"https:\\u002F\\u002Flink.zhihu.com\\u002F?target=https%3A\\u002F\\u002Flink.jianshu.com\\u002F%3Ft%3Dhttps%3A\\u002F\\u002Fwww.shiyanlou.com\\u002Fcourses\\u002F81\\\" class=\\\" wrap external\\\" target=\\\"_blank\\\" rel=\\\"nofollow noreferrer\\\"\\u003E【Flask 实现简单聊天室】\\u003C\\u002Fa\\u003E\\u003Cbr\\u002F\\u003E61、\\u003Ca href=\\\"https:\\u002F\\u002Flink.zhihu.com\\u002F?target=https%3A\\u002F\\u002Flink.jianshu.com\\u002F%3Ft%3Dhttps%3A\\u002F\\u002Fwww.shiyanlou.com\\u002Fcourses\\u002F604\\\" class=\\\" wrap external\\\" target=\\\"_blank\\\" rel=\\\"nofollow noreferrer\\\"\\u003E【基于PyQt5 实现地图中定位相片拍摄位置】\\u003C\\u002Fa\\u003E\\u003Cbr\\u002F\\u003E62、\\u003Ca href=\\\"https:\\u002F\\u002Flink.zhihu.com\\u002F?target=https%3A\\u002F\\u002Flink.jianshu.com\\u002F%3Ft%3Dhttps%3A\\u002F\\u002Fwww.shiyanlou.com\\u002Fcourses\\u002F583\\\" class=\\\" wrap external\\\" target=\\\"_blank\\\" rel=\\\"nofollow noreferrer\\\"\\u003E【Python实现模板引擎】\\u003C\\u002Fa\\u003E\\u003Cbr\\u002F\\u003E63、\\u003Ca href=\\\"https:\\u002F\\u002Flink.zhihu.com\\u002F?target=https%3A\\u002F\\u002Flink.jianshu.com\\u002F%3Ft%3Dhttps%3A\\u002F\\u002Fwww.shiyanlou.com\\u002Fcourses\\u002F776\\\" class=\\\" wrap external\\\" target=\\\"_blank\\\" rel=\\\"nofollow noreferrer\\\"\\u003E【Python实现遗传算法求解n-queens问题】\\u003C\\u002Fa\\u003E\\u003Cbr\\u002F\\u003E64、\\u003Ca href=\\\"https:\\u002F\\u002Flink.zhihu.com\\u002F?target=https%3A\\u002F\\u002Flink.jianshu.com\\u002F%3Ft%3Dhttps%3A\\u002F\\u002Fwww.shiyanlou.com\\u002Fcourses\\u002F625\\\" class=\\\" wrap external\\\" target=\\\"_blank\\\" rel=\\\"nofollow noreferrer\\\"\\u003E【Python3 实现命令行动态进度条】\\u003C\\u002Fa\\u003E\\u003Cbr\\u002F\\u003E65、\\u003Ca href=\\\"https:\\u002F\\u002Flink.zhihu.com\\u002F?target=https%3A\\u002F\\u002Flink.jianshu.com\\u002F%3Ft%3Dhttps%3A\\u002F\\u002Fwww.shiyanlou.com\\u002Fcourses\\u002F639\\\" class=\\\" wrap external\\\" target=\\\"_blank\\\" rel=\\\"nofollow noreferrer\\\"\\u003E【Python 获取挂号信息并邮件通知】\\u003C\\u002Fa\\u003E\\u003Cbr\\u002F\\u003E66、\\u003Ca href=\\\"https:\\u002F\\u002Flink.zhihu.com\\u002F?target=https%3A\\u002F\\u002Flink.jianshu.com\\u002F%3Ft%3Dhttps%3A\\u002F\\u002Fwww.shiyanlou.com\\u002Fcourses\\u002F778\\\" class=\\\" wrap external\\\" target=\\\"_blank\\\" rel=\\\"nofollow noreferrer\\\"\\u003E【Python实现java web项目远端自动化更新部署】\\u003C\\u002Fa\\u003E\\u003Cbr\\u002F\\u003E67、\\u003Ca href=\\\"https:\\u002F\\u002Flink.zhihu.com\\u002F?target=https%3A\\u002F\\u002Flink.jianshu.com\\u002F%3Ft%3Dhttps%3A\\u002F\\u002Fwww.shiyanlou.com\\u002Fcourses\\u002F789\\\" class=\\\" wrap external\\\" target=\\\"_blank\\\" rel=\\\"nofollow noreferrer\\\"\\u003E【使用 Python3 编写 Github 自动周报生成器】\\u003C\\u002Fa\\u003E\\u003Cbr\\u002F\\u003E68、\\u003Ca href=\\\"https:\\u002F\\u002Flink.zhihu.com\\u002F?target=https%3A\\u002F\\u002Flink.jianshu.com\\u002F%3Ft%3Dhttps%3A\\u002F\\u002Fwww.shiyanlou.com\\u002Fcourses\\u002F384\\\" class=\\\" wrap external\\\" target=\\\"_blank\\\" rel=\\\"nofollow noreferrer\\\"\\u003E【使用 Python 生成分形图片】\\u003C\\u002Fa\\u003E\\u003Cbr\\u002F\\u003E69、\\u003Ca href=\\\"https:\\u002F\\u002Flink.zhihu.com\\u002F?target=https%3A\\u002F\\u002Flink.jianshu.com\\u002F%3Ft%3Dhttps%3A\\u002F\\u002Fwww.shiyanlou.com\\u002Fcourses\\u002F518\\\" class=\\\" wrap external\\\" target=\\\"_blank\\\" rel=\\\"nofollow noreferrer\\\"\\u003E【Python 实现 Redis 异步客户端】\\u003C\\u002Fa\\u003E\\u003Cbr\\u002F\\u003E70、\\u003Ca href=\\\"https:\\u002F\\u002Flink.zhihu.com\\u002F?target=https%3A\\u002F\\u002Flink.jianshu.com\\u002F%3Ft%3Dhttps%3A\\u002F\\u002Fwww.shiyanlou.com\\u002Fcourses\\u002F828\\\" class=\\\" wrap external\\\" target=\\\"_blank\\\" rel=\\\"nofollow noreferrer\\\"\\u003E【Python 实现中文错别字高亮系统】\\u003C\\u002Fa\\u003E\\u003Cbr\\u002F\\u003E 最后：\\u003Cbr\\u002F\\u003E 以上项目列表希望可以给你在Python学习中带来帮助~\\u003Cbr\\u002F\\u003E\\u003Cbr\\u002F\\u003E\\u003Cbr\\u002F\\u003E作者：实验楼\\u003Cbr\\u002F\\u003E链接：\\u003Ca href=\\\"https:\\u002F\\u002Flink.zhihu.com\\u002F?target=https%3A\\u002F\\u002Fwww.jianshu.com\\u002Fp\\u002Fb577a1655144\\\" class=\\\" external\\\" target=\\\"_blank\\\" rel=\\\"nofollow noreferrer\\\"\\u003E\\u003Cspan class=\\\"invisible\\\"\\u003Ehttps:\\u002F\\u002Fwww.\\u003C\\u002Fspan\\u003E\\u003Cspan class=\\\"visible\\\"\\u003Ejianshu.com\\u002Fp\\u002Fb577a1655\\u003C\\u002Fspan\\u003E\\u003Cspan class=\\\"invisible\\\"\\u003E144\\u003C\\u002Fspan\\u003E\\u003Cspan class=\\\"ellipsis\\\"\\u003E\\u003C\\u002Fspan\\u003E\\u003C\\u002Fa\\u003E\\u003Cbr\\u002F\\u003E来源：简书\\u003Cbr\\u002F\\u003E简书著作权归作者所有，任何形式的转载都请联系作者获得授权并注明出处。\\u003C\\u002Fp\\u003E\",\"adminClosedComment\":false,\"topics\":[{\"url\":\"https:\\u002F\\u002Fwww.zhihu.com\\u002Fapi\\u002Fv4\\u002Ftopics\\u002F19552832\",\"type\":\"topic\",\"id\":\"19552832\",\"name\":\"Python\"},{\"url\":\"https:\\u002F\\u002Fwww.zhihu.com\\u002Fapi\\u002Fv4\\u002Ftopics\\u002F19554128\",\"type\":\"topic\",\"id\":\"19554128\",\"name\":\"MySQL\"},{\"url\":\"https:\\u002F\\u002Fwww.zhihu.com\\u002Fapi\\u002Fv4\\u002Ftopics\\u002F19559424\",\"type\":\"topic\",\"id\":\"19559424\",\"name\":\"数据分析\"}],\"voteupCount\":6563,\"voting\":0,\"commentCount\":118,\"contributions\":[],\"isTitleImageFullScreen\":false,\"upvotedFollowees\":[],\"commercialInfo\":{\"isCommercial\":false,\"plugin\":{}},\"suggestEdit\":{\"status\":false,\"reason\":\"\",\"tip\":\"\",\"url\":\"\",\"title\":\"\"},\"reason\":\"\",\"annotationAction\":[],\"canTip\":false,\"tipjarorsCount\":0,\"isLabeled\":false,\"hasPublishingDraft\":false,\"isFavorited\":false,\"isNormal\":true,\"status\":0,\"shareText\":\"整理了70个Python实战项目列表，都有完整且详细的教程 - 来自知乎专栏，作者: 张小森 https:\\u002F\\u002Fzhuanlan.zhihu.com\\u002Fp\\u002F60246173 （想看更多？下载 @知乎 App：http:\\u002F\\u002Fweibo.com\\u002Fp\\u002F100404711598 ）\",\"canComment\":{\"status\":true,\"reason\":\"\"},\"mcnFpShow\":-1}},\"columns\":{},\"topics\":{},\"roundtables\":{},\"favlists\":{},\"comments\":{},\"notifications\":{},\"ebooks\":{},\"activities\":{},\"feeds\":{},\"pins\":{},\"promotions\":{},\"drafts\":{},\"chats\":{},\"posts\":{},\"clubs\":{}},\"currentUser\":\"\",\"account\":{\"lockLevel\":{},\"unlockTicketStatus\":false,\"unlockTicket\":null,\"challenge\":[],\"errorStatus\":false,\"message\":\"\",\"isFetching\":false,\"accountInfo\":{},\"urlToken\":{\"loading\":false}},\"settings\":{\"socialBind\":null,\"inboxMsg\":null,\"notification\":{},\"email\":{},\"privacyFlag\":null,\"blockedUsers\":{\"isFetching\":false,\"paging\":{\"pageNo\":1,\"pageSize\":6},\"data\":[]},\"blockedFollowees\":{\"isFetching\":false,\"paging\":{\"pageNo\":1,\"pageSize\":6},\"data\":[]},\"ignoredTopics\":{\"isFetching\":false,\"paging\":{\"pageNo\":1,\"pageSize\":6},\"data\":[]},\"restrictedTopics\":null,\"laboratory\":{}},\"notification\":{},\"people\":{\"profileStatus\":{},\"activitiesByUser\":{},\"answersByUser\":{},\"answersSortByVotesByUser\":{},\"answersIncludedByUser\":{},\"votedAnswersByUser\":{},\"thankedAnswersByUser\":{},\"voteAnswersByUser\":{},\"thankAnswersByUser\":{},\"topicAnswersByUser\":{},\"articlesByUser\":{},\"articlesSortByVotesByUser\":{},\"articlesIncludedByUser\":{},\"pinsByUser\":{},\"questionsByUser\":{},\"commercialQuestionsByUser\":{},\"favlistsByUser\":{},\"followingByUser\":{},\"followersByUser\":{},\"mutualsByUser\":{},\"followingColumnsByUser\":{},\"followingQuestionsByUser\":{},\"followingFavlistsByUser\":{},\"followingTopicsByUser\":{},\"publicationsByUser\":{},\"columnsByUser\":{},\"allFavlistsByUser\":{},\"brands\":null,\"creationsByUser\":{},\"creationsSortByVotesByUser\":{}},\"env\":{\"ab\":{\"config\":{\"params\":[{\"id\":\"se_dnn_mt\",\"type\":\"String\",\"value\":\"0\",\"chainId\":\"_all_\"},{\"id\":\"se_colorfultab\",\"type\":\"String\",\"value\":\"1\",\"chainId\":\"_all_\"},{\"id\":\"se_ctr_pyc\",\"type\":\"String\",\"value\":\"0\",\"chainId\":\"_all_\"},{\"id\":\"tsp_childbillboard\",\"type\":\"String\",\"value\":\"1\",\"chainId\":\"_all_\"},{\"id\":\"ls_videoad\",\"type\":\"String\",\"value\":\"2\",\"chainId\":\"_all_\"},{\"id\":\"li_pay_banner_type\",\"type\":\"String\",\"value\":\"0\",\"chainId\":\"_all_\"},{\"id\":\"zr_video_rank\",\"type\":\"String\",\"value\":\"new_rank\",\"chainId\":\"_all_\"},{\"id\":\"se_dnn_groupwise\",\"type\":\"String\",\"value\":\"0\",\"chainId\":\"_all_\"},{\"id\":\"se_ltr_user\",\"type\":\"String\",\"value\":\"0\",\"chainId\":\"_all_\"},{\"id\":\"li_hot_score_ab\",\"type\":\"String\",\"value\":\"0\",\"chainId\":\"_all_\"},{\"id\":\"li_se_section\",\"type\":\"String\",\"value\":\"0\",\"chainId\":\"_all_\"},{\"id\":\"zr_answer_rec_cp\",\"type\":\"String\",\"value\":\"open\",\"chainId\":\"_all_\"},{\"id\":\"se_payconsult\",\"type\":\"String\",\"value\":\"0\",\"chainId\":\"_all_\"},{\"id\":\"web_answer_update\",\"type\":\"String\",\"value\":\"0\"},{\"id\":\"zr_rec_answer_cp\",\"type\":\"String\",\"value\":\"close\",\"chainId\":\"_all_\"},{\"id\":\"se_wannasearch\",\"type\":\"String\",\"value\":\"0\",\"chainId\":\"_all_\"},{\"id\":\"se_ios_spb309\",\"type\":\"String\",\"value\":\"0\",\"chainId\":\"_all_\"},{\"id\":\"top_ebook\",\"type\":\"String\",\"value\":\"0\",\"chainId\":\"_all_\"},{\"id\":\"ug_follow_topic_1\",\"type\":\"String\",\"value\":\"2\",\"chainId\":\"_all_\"},{\"id\":\"li_se_heat\",\"type\":\"String\",\"value\":\"0\",\"chainId\":\"_all_\"},{\"id\":\"gue_zhuantikapian\",\"type\":\"String\",\"value\":\"0\"},{\"id\":\"zr_infinity_member\",\"type\":\"String\",\"value\":\"close\",\"chainId\":\"_all_\"},{\"id\":\"se_ad_index\",\"type\":\"String\",\"value\":\"10\",\"chainId\":\"_all_\"},{\"id\":\"qap_payc_invite\",\"type\":\"String\",\"value\":\"0\",\"chainId\":\"_all_\"},{\"id\":\"zr_km_slot_style\",\"type\":\"String\",\"value\":\"event_card\",\"chainId\":\"_all_\"},{\"id\":\"se_hotsearch\",\"type\":\"String\",\"value\":\"1\",\"chainId\":\"_all_\"},{\"id\":\"se_cardrank_3\",\"type\":\"String\",\"value\":\"0\",\"chainId\":\"_all_\"},{\"id\":\"ug_zero_follow\",\"type\":\"String\",\"value\":\"0\",\"chainId\":\"_all_\"},{\"id\":\"soc_notification\",\"type\":\"String\",\"value\":\"0\",\"chainId\":\"_all_\"},{\"id\":\"se_webmajorob\",\"type\":\"String\",\"value\":\"0\",\"chainId\":\"_all_\"},{\"id\":\"se_webrs\",\"type\":\"String\",\"value\":\"1\",\"chainId\":\"_all_\"},{\"id\":\"se_famous\",\"type\":\"String\",\"value\":\"1\",\"chainId\":\"_all_\"},{\"id\":\"se_search_feed\",\"type\":\"String\",\"value\":\"N\",\"chainId\":\"_all_\"},{\"id\":\"se_zu_onebox\",\"type\":\"String\",\"value\":\"0\",\"chainId\":\"_all_\"},{\"id\":\"se_college_cm\",\"type\":\"String\",\"value\":\"0\",\"chainId\":\"_all_\"},{\"id\":\"se_subtext\",\"type\":\"String\",\"value\":\"0\",\"chainId\":\"_all_\"},{\"id\":\"tp_meta_card\",\"type\":\"String\",\"value\":\"0\",\"chainId\":\"_all_\"},{\"id\":\"li_qa_new_cover\",\"type\":\"String\",\"value\":\"0\",\"chainId\":\"_all_\"},{\"id\":\"li_se_xgb\",\"type\":\"String\",\"value\":\"0\",\"chainId\":\"_all_\"},{\"id\":\"zr_km_feed_prerank\",\"type\":\"String\",\"value\":\"old\",\"chainId\":\"_all_\"},{\"id\":\"ug_follow_answerer_0\",\"type\":\"String\",\"value\":\"0\",\"chainId\":\"_all_\"},{\"id\":\"ug_newtag\",\"type\":\"String\",\"value\":\"0\",\"chainId\":\"_all_\"},{\"id\":\"ls_fmp4\",\"type\":\"String\",\"value\":\"0\",\"chainId\":\"_all_\"},{\"id\":\"pf_noti_entry_num\",\"type\":\"String\",\"value\":\"0\",\"chainId\":\"_all_\"},{\"id\":\"pf_newguide_vertical\",\"type\":\"String\",\"value\":\"0\",\"chainId\":\"_all_\"},{\"id\":\"zr_km_item_prerank\",\"type\":\"String\",\"value\":\"old\",\"chainId\":\"_all_\"},{\"id\":\"se_whitelist\",\"type\":\"String\",\"value\":\"0\",\"chainId\":\"_all_\"},{\"id\":\"soc_bigone\",\"type\":\"String\",\"value\":\"0\",\"chainId\":\"_all_\"},{\"id\":\"zr_km_feed_nlp\",\"type\":\"String\",\"value\":\"old\",\"chainId\":\"_all_\"},{\"id\":\"se_ltr_dnn_cp\",\"type\":\"String\",\"value\":\"0\",\"chainId\":\"_all_\"},{\"id\":\"se_cardrank_4\",\"type\":\"String\",\"value\":\"0\",\"chainId\":\"_all_\"},{\"id\":\"soc_special\",\"type\":\"String\",\"value\":\"0\",\"chainId\":\"_all_\"},{\"id\":\"pf_creator_card\",\"type\":\"String\",\"value\":\"1\",\"chainId\":\"_all_\"},{\"id\":\"li_tjys_ec_ab\",\"type\":\"String\",\"value\":\"0\",\"chainId\":\"_all_\"},{\"id\":\"li_search_answer\",\"type\":\"String\",\"value\":\"0\",\"chainId\":\"_all_\"},{\"id\":\"web_question_invite\",\"type\":\"String\",\"value\":\"B\"},{\"id\":\"zr_man_intervene\",\"type\":\"String\",\"value\":\"0\",\"chainId\":\"_all_\"},{\"id\":\"pf_fuceng\",\"type\":\"String\",\"value\":\"1\",\"chainId\":\"_all_\"},{\"id\":\"li_android_vip\",\"type\":\"String\",\"value\":\"0\",\"chainId\":\"_all_\"},{\"id\":\"li_se_paid_answer\",\"type\":\"String\",\"value\":\"0\",\"chainId\":\"_all_\"},{\"id\":\"li_vip_no_ad_mon\",\"type\":\"String\",\"value\":\"0\",\"chainId\":\"_all_\"},{\"id\":\"se_new_topic\",\"type\":\"String\",\"value\":\"0\",\"chainId\":\"_all_\"},{\"id\":\"se_perf\",\"type\":\"String\",\"value\":\"0\",\"chainId\":\"_all_\"},{\"id\":\"se_mobileweb\",\"type\":\"String\",\"value\":\"1\",\"chainId\":\"_all_\"},{\"id\":\"soc_bignew\",\"type\":\"String\",\"value\":\"1\",\"chainId\":\"_all_\"},{\"id\":\"li_qa_cover\",\"type\":\"String\",\"value\":\"old\",\"chainId\":\"_all_\"},{\"id\":\"se_dnn_refine\",\"type\":\"String\",\"value\":\"0\",\"chainId\":\"_all_\"},{\"id\":\"se_cardrank_2\",\"type\":\"String\",\"value\":\"0\",\"chainId\":\"_all_\"},{\"id\":\"top_native_answer\",\"type\":\"String\",\"value\":\"1\",\"chainId\":\"_all_\"},{\"id\":\"ug_goodcomment_0\",\"type\":\"String\",\"value\":\"1\",\"chainId\":\"_all_\"},{\"id\":\"se_college\",\"type\":\"String\",\"value\":\"default\",\"chainId\":\"_all_\"},{\"id\":\"se_qua_boost\",\"type\":\"String\",\"value\":\"0\",\"chainId\":\"_all_\"},{\"id\":\"tp_sft_v2\",\"type\":\"String\",\"value\":\"d\",\"chainId\":\"_all_\"},{\"id\":\"se_go_ztext\",\"type\":\"String\",\"value\":\"0\",\"chainId\":\"_all_\"},{\"id\":\"top_root\",\"type\":\"String\",\"value\":\"0\",\"chainId\":\"_all_\"},{\"id\":\"top_vipconsume\",\"type\":\"String\",\"value\":\"1\",\"chainId\":\"_all_\"},{\"id\":\"gue_new_special_page\",\"type\":\"String\",\"value\":\"0\"},{\"id\":\"zr_km_recall\",\"type\":\"String\",\"value\":\"default\",\"chainId\":\"_all_\"},{\"id\":\"zr_test_aa1\",\"type\":\"String\",\"value\":\"0\",\"chainId\":\"_all_\"},{\"id\":\"li_album_liutongab\",\"type\":\"String\",\"value\":\"0\",\"chainId\":\"_all_\"},{\"id\":\"gue_goods_card\",\"type\":\"String\",\"value\":\"0\"},{\"id\":\"tsp_vote\",\"type\":\"String\",\"value\":\"1\",\"chainId\":\"_all_\"},{\"id\":\"se_hot_timebox\",\"type\":\"String\",\"value\":\"0\",\"chainId\":\"_all_\"},{\"id\":\"se_use_zitem\",\"type\":\"String\",\"value\":\"0\",\"chainId\":\"_all_\"},{\"id\":\"web_heifetz_grow_ad\",\"type\":\"String\",\"value\":\"1\"},{\"id\":\"se_webtimebox\",\"type\":\"String\",\"value\":\"0\",\"chainId\":\"_all_\"},{\"id\":\"se_ctr_topic\",\"type\":\"String\",\"value\":\"0\",\"chainId\":\"_all_\"},{\"id\":\"zr_video_recall\",\"type\":\"String\",\"value\":\"current_recall\",\"chainId\":\"_all_\"},{\"id\":\"zr_search_xgb\",\"type\":\"String\",\"value\":\"1\",\"chainId\":\"_all_\"},{\"id\":\"zr_video_rank_nn\",\"type\":\"String\",\"value\":\"new_rank\",\"chainId\":\"_all_\"},{\"id\":\"se_auto_syn\",\"type\":\"String\",\"value\":\"0\",\"chainId\":\"_all_\"},{\"id\":\"tp_qa_toast\",\"type\":\"String\",\"value\":\"1\",\"chainId\":\"_all_\"},{\"id\":\"ls_zvideo_license\",\"type\":\"String\",\"value\":\"0\",\"chainId\":\"_all_\"},{\"id\":\"sem_up_growth\",\"type\":\"String\",\"value\":\"in_app\",\"chainId\":\"_all_\"},{\"id\":\"li_se_kv\",\"type\":\"String\",\"value\":\"0\",\"chainId\":\"_all_\"},{\"id\":\"zr_item_nn_recall\",\"type\":\"String\",\"value\":\"close\",\"chainId\":\"_all_\"},{\"id\":\"se_zu_recommend\",\"type\":\"String\",\"value\":\"0\",\"chainId\":\"_all_\"},{\"id\":\"li_se_vertical\",\"type\":\"String\",\"value\":\"0\",\"chainId\":\"_all_\"},{\"id\":\"zr_km_answer\",\"type\":\"String\",\"value\":\"open_cvr\",\"chainId\":\"_all_\"},{\"id\":\"se_com_boost\",\"type\":\"String\",\"value\":\"0\",\"chainId\":\"_all_\"},{\"id\":\"tsp_billboardsheep2\",\"type\":\"String\",\"value\":\"1\",\"chainId\":\"_all_\"},{\"id\":\"gue_anonymous\",\"type\":\"String\",\"value\":\"show\"},{\"id\":\"zw_payc_qaedit\",\"type\":\"String\",\"value\":\"0\",\"chainId\":\"_all_\"},{\"id\":\"zr_km_topic_zann\",\"type\":\"String\",\"value\":\"old\",\"chainId\":\"_all_\"},{\"id\":\"tp_qa_metacard_top\",\"type\":\"String\",\"value\":\"top\",\"chainId\":\"_all_\"},{\"id\":\"web_answerlist_ad\",\"type\":\"String\",\"value\":\"0\"},{\"id\":\"zr_ans_rec\",\"type\":\"String\",\"value\":\"gbrank\",\"chainId\":\"_all_\"},{\"id\":\"se_adxtest\",\"type\":\"String\",\"value\":\"1\",\"chainId\":\"_all_\"},{\"id\":\"se_agency\",\"type\":\"String\",\"value\":\" 0\",\"chainId\":\"_all_\"},{\"id\":\"se_lottery\",\"type\":\"String\",\"value\":\"0\",\"chainId\":\"_all_\"},{\"id\":\"tsp_hotctr\",\"type\":\"String\",\"value\":\"1\",\"chainId\":\"_all_\"},{\"id\":\"li_back\",\"type\":\"String\",\"value\":\"1\",\"chainId\":\"_all_\"},{\"id\":\"se_ctr_user\",\"type\":\"String\",\"value\":\"0\",\"chainId\":\"_all_\"},{\"id\":\"se_waterfall\",\"type\":\"String\",\"value\":\"0\",\"chainId\":\"_all_\"},{\"id\":\"se_site_onebox\",\"type\":\"String\",\"value\":\"0\",\"chainId\":\"_all_\"},{\"id\":\"top_quality\",\"type\":\"String\",\"value\":\"0\",\"chainId\":\"_all_\"},{\"id\":\"li_se_album_card\",\"type\":\"String\",\"value\":\"0\",\"chainId\":\"_all_\"},{\"id\":\"li_video_section\",\"type\":\"String\",\"value\":\"0\",\"chainId\":\"_all_\"},{\"id\":\"zr_slot_cold_start\",\"type\":\"String\",\"value\":\"aver\",\"chainId\":\"_all_\"},{\"id\":\"se_mctr\",\"type\":\"String\",\"value\":\"0\",\"chainId\":\"_all_\"},{\"id\":\"se_col_boost\",\"type\":\"String\",\"value\":\"0\",\"chainId\":\"_all_\"},{\"id\":\"se_cardrank_1\",\"type\":\"String\",\"value\":\"0\",\"chainId\":\"_all_\"},{\"id\":\"se_websearch\",\"type\":\"String\",\"value\":\"3\",\"chainId\":\"_all_\"},{\"id\":\"se_movietab\",\"type\":\"String\",\"value\":\"1\",\"chainId\":\"_all_\"},{\"id\":\"zr_intervene\",\"type\":\"String\",\"value\":\"0\",\"chainId\":\"_all_\"},{\"id\":\"zr_rel_search\",\"type\":\"String\",\"value\":\"base\",\"chainId\":\"_all_\"},{\"id\":\"se_likebutton\",\"type\":\"String\",\"value\":\"0\",\"chainId\":\"_all_\"},{\"id\":\"soc_update\",\"type\":\"String\",\"value\":\"1\",\"chainId\":\"_all_\"},{\"id\":\"se_time_threshold\",\"type\":\"String\",\"value\":\"0\",\"chainId\":\"_all_\"},{\"id\":\"tp_qa_metacard\",\"type\":\"String\",\"value\":\"1\",\"chainId\":\"_all_\"},{\"id\":\"zr_km_style\",\"type\":\"String\",\"value\":\"base\",\"chainId\":\"_all_\"},{\"id\":\"se_expired_ob\",\"type\":\"String\",\"value\":\"0\",\"chainId\":\"_all_\"},{\"id\":\"se_aa_base\",\"type\":\"String\",\"value\":\"0\",\"chainId\":\"_all_\"},{\"id\":\"se_featured\",\"type\":\"String\",\"value\":\"1\",\"chainId\":\"_all_\"},{\"id\":\"tp_sticky_android\",\"type\":\"String\",\"value\":\"0\",\"chainId\":\"_all_\"},{\"id\":\"tp_m_intro_re_topic\",\"type\":\"String\",\"value\":\"1\",\"chainId\":\"_all_\"},{\"id\":\"tsp_newchild\",\"type\":\"String\",\"value\":\"1\",\"chainId\":\"_all_\"},{\"id\":\"top_test_4_liguangyi\",\"type\":\"String\",\"value\":\"1\",\"chainId\":\"_all_\"},{\"id\":\"zr_art_rec\",\"type\":\"String\",\"value\":\"base\",\"chainId\":\"_all_\"},{\"id\":\"zr_km_item_cf\",\"type\":\"String\",\"value\":\"close\",\"chainId\":\"_all_\"},{\"id\":\"se_amovietab\",\"type\":\"String\",\"value\":\"1\",\"chainId\":\"_all_\"},{\"id\":\"pf_foltopic_usernum\",\"type\":\"String\",\"value\":\"0\",\"chainId\":\"_all_\"},{\"id\":\"se_spb309\",\"type\":\"String\",\"value\":\"0\",\"chainId\":\"_all_\"},{\"id\":\"se_topiclabel\",\"type\":\"String\",\"value\":\"1\",\"chainId\":\"_all_\"},{\"id\":\"top_universalebook\",\"type\":\"String\",\"value\":\"1\",\"chainId\":\"_all_\"},{\"id\":\"zw_sameq_sorce\",\"type\":\"String\",\"value\":\"999\",\"chainId\":\"_all_\"},{\"id\":\"se_mclick1\",\"type\":\"String\",\"value\":\"0\",\"chainId\":\"_all_\"},{\"id\":\"tp_sft\",\"type\":\"String\",\"value\":\"a\",\"chainId\":\"_all_\"},{\"id\":\"top_ydyq\",\"type\":\"String\",\"value\":\"X\",\"chainId\":\"_all_\"},{\"id\":\"web_sem_ab\",\"type\":\"String\",\"value\":\"0\"},{\"id\":\"web_column_auto_invite\",\"type\":\"String\",\"value\":\"0\"},{\"id\":\"top_new_feed\",\"type\":\"String\",\"value\":\"5\",\"chainId\":\"_all_\"},{\"id\":\"ug_zero_follow_0\",\"type\":\"String\",\"value\":\"0\",\"chainId\":\"_all_\"},{\"id\":\"web_answer_list_ad\",\"type\":\"String\",\"value\":\"1\"},{\"id\":\"zr_km_prerank\",\"type\":\"String\",\"value\":\"new\",\"chainId\":\"_all_\"},{\"id\":\"tp_club_qa\",\"type\":\"String\",\"value\":\"0\",\"chainId\":\"_all_\"},{\"id\":\"ls_new_upload\",\"type\":\"String\",\"value\":\"0\",\"chainId\":\"_all_\"},{\"id\":\"se_billboardsearch\",\"type\":\"String\",\"value\":\"0\",\"chainId\":\"_all_\"},{\"id\":\"top_hotcommerce\",\"type\":\"String\",\"value\":\"1\",\"chainId\":\"_all_\"},{\"id\":\"ug_follow_answerer\",\"type\":\"String\",\"value\":\"0\",\"chainId\":\"_all_\"},{\"id\":\"se_backsearch\",\"type\":\"String\",\"value\":\"0\",\"chainId\":\"_all_\"},{\"id\":\"tp_header_style\",\"type\":\"String\",\"value\":\"1\",\"chainId\":\"_all_\"},{\"id\":\"tp_topic_head\",\"type\":\"String\",\"value\":\"0\",\"chainId\":\"_all_\"},{\"id\":\"top_v_album\",\"type\":\"String\",\"value\":\"1\",\"chainId\":\"_all_\"},{\"id\":\"ug_fw_answ_aut_1\",\"type\":\"String\",\"value\":\"0\",\"chainId\":\"_all_\"},{\"id\":\"zr_cold_start\",\"type\":\"String\",\"value\":\"0\",\"chainId\":\"_all_\"},{\"id\":\"se_p_slideshow\",\"type\":\"String\",\"value\":\"0\",\"chainId\":\"_all_\"},{\"id\":\"se_preset_tech\",\"type\":\"String\",\"value\":\"0\",\"chainId\":\"_all_\"},{\"id\":\"web_n_web_msg\",\"type\":\"String\",\"value\":\"0\"},{\"id\":\"se_mclick\",\"type\":\"String\",\"value\":\"0\",\"chainId\":\"_all_\"},{\"id\":\"se_dnn_slabel\",\"type\":\"String\",\"value\":\"1\",\"chainId\":\"_all_\"}],\"chains\":[{\"chainId\":\"_all_\"}]},\"triggers\":{}},\"userAgent\":{\"Edge\":false,\"Wechat\":false,\"Weibo\":false,\"QQ\":false,\"MQQBrowser\":false,\"Qzone\":false,\"Mobile\":false,\"Android\":false,\"iOS\":false,\"isAppleDevice\":true,\"Zhihu\":false,\"ZhihuHybrid\":false,\"isBot\":false,\"Tablet\":false,\"UC\":false,\"Sogou\":false,\"Qihoo\":false,\"Baidu\":false,\"BaiduApp\":false,\"Safari\":true,\"GoogleBot\":false,\"isWebView\":false,\"origin\":\"Mozilla\\u002F5.0 (Macintosh; Intel Mac OS X 10_12_6) AppleWebKit\\u002F603.3.8 (KHTML, like Gecko) Version\\u002F10.1.2 Safari\\u002F603.3.8\"},\"ctx\":{\"path\":\"\\u002Fp\\u002F60246173\"},\"trafficSource\":\"production\",\"edition\":{\"baidu\":false,\"sogou\":false,\"baiduBeijing\":false,\"sogouBeijing\":false},\"theme\":\"light\",\"enableShortcut\":true,\"referer\":\"\",\"conf\":{},\"ipInfo\":{\"cityName\":\"unknown\",\"countryName\":\"Canada\",\"regionName\":\"Ontario\",\"countryCode\":\"CA\"},\"logged\":false,\"tdkInfo\":{}},\"me\":{\"columnContributions\":[]},\"label\":{\"recognizerLists\":{}},\"ecommerce\":{},\"comments\":{\"pagination\":{},\"collapsed\":{},\"reverse\":{},\"reviewing\":{},\"conversation\":{},\"parent\":{}},\"commentsV2\":{\"stickers\":[],\"commentWithPicPermission\":{},\"notificationsComments\":{},\"pagination\":{},\"collapsed\":{},\"reverse\":{},\"reviewing\":{},\"conversation\":{},\"conversationMore\":{},\"parent\":{}},\"pushNotifications\":{\"default\":{\"isFetching\":false,\"isDrained\":false,\"ids\":[]},\"follow\":{\"isFetching\":false,\"isDrained\":false,\"ids\":[]},\"vote_thank\":{\"isFetching\":false,\"isDrained\":false,\"ids\":[]},\"currentTab\":\"default\",\"notificationsCount\":{\"default\":0,\"follow\":0,\"vote_thank\":0}},\"messages\":{\"data\":{},\"currentTab\":\"common\",\"messageCount\":0},\"register\":{\"registerValidateSucceeded\":null,\"registerValidateErrors\":{},\"registerConfirmError\":null,\"sendDigitsError\":null,\"registerConfirmSucceeded\":null},\"login\":{\"loginUnregisteredError\":false,\"loginBindWechatError\":false,\"loginConfirmError\":null,\"sendDigitsError\":null,\"validateDigitsError\":false,\"loginConfirmSucceeded\":null,\"qrcodeLoginToken\":\"\",\"qrcodeLoginScanStatus\":0,\"qrcodeLoginError\":null,\"qrcodeLoginReturnNewToken\":false},\"active\":{\"sendDigitsError\":null,\"activeConfirmSucceeded\":null,\"activeConfirmError\":null},\"switches\":{},\"captcha\":{\"captchaNeeded\":false,\"captchaValidated\":false,\"captchaBase64String\":null,\"captchaValidationMessage\":null,\"loginCaptchaExpires\":false},\"sms\":{\"supportedCountries\":[]},\"chat\":{\"chats\":{},\"inbox\":{\"recents\":{\"isFetching\":false,\"isDrained\":false,\"isPrevDrained\":false,\"result\":[],\"next\":null,\"key\":null},\"strangers\":{\"isFetching\":false,\"isDrained\":false,\"isPrevDrained\":false,\"result\":[],\"next\":null,\"key\":null},\"friends\":{\"isFetching\":false,\"isDrained\":false,\"isPrevDrained\":false,\"result\":[],\"next\":null,\"key\":null},\"search\":{\"isFetching\":false,\"isDrained\":false,\"isPrevDrained\":false,\"result\":[],\"next\":null,\"key\":null},\"config\":{\"newCount\":0,\"strangerMessageSwitch\":false,\"strangerMessageUnread\":false,\"friendCount\":0}},\"global\":{\"isChatMqttExisted\":false}},\"emoticons\":{\"emoticonGroupList\":[],\"emoticonGroupDetail\":{}},\"creator\":{\"currentCreatorUrlToken\":null,\"homeData\":{\"recommendQuestions\":[]},\"tools\":{\"question\":{\"invitationCount\":{\"questionFolloweeCount\":0,\"questionTotalCount\":0},\"goodatTopics\":[]},\"customPromotion\":{\"itemLists\":{}},\"recommend\":{\"recommendTimes\":{}}},\"explore\":{\"academy\":{\"tabs\":[],\"article\":{}}},\"rights\":[],\"rightsStatus\":{},\"levelUpperLimit\":10,\"account\":{\"growthLevel\":{}},\"applyStatus\":{}},\"recommendation\":{\"homeRecommendations\":[]},\"shareTexts\":{},\"articles\":{\"voters\":{}},\"previewPost\":{},\"favlists\":{\"relations\":{}},\"columns\":{\"voters\":{}},\"reward\":{\"answer\":{},\"article\":{},\"question\":{}},\"video\":{\"data\":{},\"shareVideoDetail\":{},\"last\":{}},\"topstory\":{\"recommend\":{\"isFetching\":false,\"isDrained\":false,\"afterId\":0,\"items\":[],\"next\":null},\"follow\":{\"isFetching\":false,\"isDrained\":false,\"afterId\":0,\"items\":[],\"next\":null},\"followWonderful\":{\"isFetching\":false,\"isDrained\":false,\"afterId\":0,\"items\":[],\"next\":null},\"sidebar\":null,\"announcement\":{},\"hotListCategories\":[],\"hotList\":[],\"guestFeeds\":{\"isFetching\":false,\"isDrained\":false,\"afterId\":0,\"items\":[],\"next\":null},\"followExtra\":{\"isNewUser\":null,\"isFetched\":false,\"followCount\":0,\"followers\":[]}},\"readStatus\":{},\"column\":{},\"requestColumn\":{\"categories\":[],\"error\":null},\"articleContribution\":{\"contributeRequests\":[],\"deleteContributeIdList\":[],\"handledContributeIdList\":[],\"recommendedColumns\":[],\"pinnedColumns\":[],\"sentContributeRequestsIdList\":[null,null,null,null,null,null,null,null,null,null,null,null,null,null,null,null]},\"columnContribution\":{\"contributeRequests\":[],\"autoInviteEnabled\":false,\"recommendedContributors\":[],\"contributionInvitation\":null},\"draftHistory\":{\"history\":{},\"drafts\":{}},\"upload\":{},\"articleDraft\":{\"titleImage\":\"\",\"titleImageSize\":{},\"isTitleImageFullScreen\":false,\"canTitleImageFullScreen\":false,\"title\":\"\",\"titleImageUploading\":false,\"error\":\"\",\"content\":\"\",\"draftLoading\":false,\"updating\":false,\"globalLoading\":false,\"pendingVideo\":{\"resource\":null,\"error\":null},\"deleteFail\":{\"fail\":false},\"recommendTopics\":[],\"selectedColumn\":0},\"articleDrafts\":{\"isDrained\":false,\"isLoading\":false,\"items\":[]},\"columnAutocomplete\":{\"users\":[],\"friends\":[]},\"mcn\":{\"bindInfo\":{},\"memberCategoryList\":[],\"categoryList\":[]}},\"fetchHost\":\"www.zhihu.com\",\"subAppName\":\"column\"}\n"
     ]
    }
   ],
   "source": [
    "print(r.html.text) #抓取文字部分"
   ]
  },
  {
   "cell_type": "code",
   "execution_count": 85,
   "metadata": {},
   "outputs": [
    {
     "data": {
      "text/plain": [
       "{'//www.zhihu.com',\n",
       " '//www.zhihu.com/people/xiao-bei-94-49',\n",
       " '//www.zhihu.com/topic/19552832',\n",
       " '//www.zhihu.com/topic/19554128',\n",
       " '//www.zhihu.com/topic/19559424',\n",
       " 'https://link.zhihu.com/?target=https%3A//link.jianshu.com/%3Ft%3Dhttps%3A//www.shiyanlou.com/courses/142',\n",
       " 'https://link.zhihu.com/?target=https%3A//link.jianshu.com/%3Ft%3Dhttps%3A//www.shiyanlou.com/courses/31',\n",
       " 'https://link.zhihu.com/?target=https%3A//link.jianshu.com/%3Ft%3Dhttps%3A//www.shiyanlou.com/courses/364',\n",
       " 'https://link.zhihu.com/?target=https%3A//link.jianshu.com/%3Ft%3Dhttps%3A//www.shiyanlou.com/courses/368',\n",
       " 'https://link.zhihu.com/?target=https%3A//link.jianshu.com/%3Ft%3Dhttps%3A//www.shiyanlou.com/courses/370',\n",
       " 'https://link.zhihu.com/?target=https%3A//link.jianshu.com/%3Ft%3Dhttps%3A//www.shiyanlou.com/courses/384',\n",
       " 'https://link.zhihu.com/?target=https%3A//link.jianshu.com/%3Ft%3Dhttps%3A//www.shiyanlou.com/courses/487',\n",
       " 'https://link.zhihu.com/?target=https%3A//link.jianshu.com/%3Ft%3Dhttps%3A//www.shiyanlou.com/courses/49',\n",
       " 'https://link.zhihu.com/?target=https%3A//link.jianshu.com/%3Ft%3Dhttps%3A//www.shiyanlou.com/courses/495',\n",
       " 'https://link.zhihu.com/?target=https%3A//link.jianshu.com/%3Ft%3Dhttps%3A//www.shiyanlou.com/courses/518',\n",
       " 'https://link.zhihu.com/?target=https%3A//link.jianshu.com/%3Ft%3Dhttps%3A//www.shiyanlou.com/courses/552',\n",
       " 'https://link.zhihu.com/?target=https%3A//link.jianshu.com/%3Ft%3Dhttps%3A//www.shiyanlou.com/courses/554',\n",
       " 'https://link.zhihu.com/?target=https%3A//link.jianshu.com/%3Ft%3Dhttps%3A//www.shiyanlou.com/courses/561',\n",
       " 'https://link.zhihu.com/?target=https%3A//link.jianshu.com/%3Ft%3Dhttps%3A//www.shiyanlou.com/courses/579',\n",
       " 'https://link.zhihu.com/?target=https%3A//link.jianshu.com/%3Ft%3Dhttps%3A//www.shiyanlou.com/courses/580',\n",
       " 'https://link.zhihu.com/?target=https%3A//link.jianshu.com/%3Ft%3Dhttps%3A//www.shiyanlou.com/courses/581',\n",
       " 'https://link.zhihu.com/?target=https%3A//link.jianshu.com/%3Ft%3Dhttps%3A//www.shiyanlou.com/courses/583',\n",
       " 'https://link.zhihu.com/?target=https%3A//link.jianshu.com/%3Ft%3Dhttps%3A//www.shiyanlou.com/courses/589',\n",
       " 'https://link.zhihu.com/?target=https%3A//link.jianshu.com/%3Ft%3Dhttps%3A//www.shiyanlou.com/courses/593',\n",
       " 'https://link.zhihu.com/?target=https%3A//link.jianshu.com/%3Ft%3Dhttps%3A//www.shiyanlou.com/courses/594',\n",
       " 'https://link.zhihu.com/?target=https%3A//link.jianshu.com/%3Ft%3Dhttps%3A//www.shiyanlou.com/courses/595',\n",
       " 'https://link.zhihu.com/?target=https%3A//link.jianshu.com/%3Ft%3Dhttps%3A//www.shiyanlou.com/courses/599',\n",
       " 'https://link.zhihu.com/?target=https%3A//link.jianshu.com/%3Ft%3Dhttps%3A//www.shiyanlou.com/courses/60',\n",
       " 'https://link.zhihu.com/?target=https%3A//link.jianshu.com/%3Ft%3Dhttps%3A//www.shiyanlou.com/courses/604',\n",
       " 'https://link.zhihu.com/?target=https%3A//link.jianshu.com/%3Ft%3Dhttps%3A//www.shiyanlou.com/courses/614',\n",
       " 'https://link.zhihu.com/?target=https%3A//link.jianshu.com/%3Ft%3Dhttps%3A//www.shiyanlou.com/courses/623',\n",
       " 'https://link.zhihu.com/?target=https%3A//link.jianshu.com/%3Ft%3Dhttps%3A//www.shiyanlou.com/courses/625',\n",
       " 'https://link.zhihu.com/?target=https%3A//link.jianshu.com/%3Ft%3Dhttps%3A//www.shiyanlou.com/courses/633',\n",
       " 'https://link.zhihu.com/?target=https%3A//link.jianshu.com/%3Ft%3Dhttps%3A//www.shiyanlou.com/courses/636',\n",
       " 'https://link.zhihu.com/?target=https%3A//link.jianshu.com/%3Ft%3Dhttps%3A//www.shiyanlou.com/courses/637',\n",
       " 'https://link.zhihu.com/?target=https%3A//link.jianshu.com/%3Ft%3Dhttps%3A//www.shiyanlou.com/courses/639',\n",
       " 'https://link.zhihu.com/?target=https%3A//link.jianshu.com/%3Ft%3Dhttps%3A//www.shiyanlou.com/courses/640',\n",
       " 'https://link.zhihu.com/?target=https%3A//link.jianshu.com/%3Ft%3Dhttps%3A//www.shiyanlou.com/courses/647',\n",
       " 'https://link.zhihu.com/?target=https%3A//link.jianshu.com/%3Ft%3Dhttps%3A//www.shiyanlou.com/courses/651',\n",
       " 'https://link.zhihu.com/?target=https%3A//link.jianshu.com/%3Ft%3Dhttps%3A//www.shiyanlou.com/courses/655',\n",
       " 'https://link.zhihu.com/?target=https%3A//link.jianshu.com/%3Ft%3Dhttps%3A//www.shiyanlou.com/courses/672',\n",
       " 'https://link.zhihu.com/?target=https%3A//link.jianshu.com/%3Ft%3Dhttps%3A//www.shiyanlou.com/courses/673',\n",
       " 'https://link.zhihu.com/?target=https%3A//link.jianshu.com/%3Ft%3Dhttps%3A//www.shiyanlou.com/courses/674',\n",
       " 'https://link.zhihu.com/?target=https%3A//link.jianshu.com/%3Ft%3Dhttps%3A//www.shiyanlou.com/courses/677',\n",
       " 'https://link.zhihu.com/?target=https%3A//link.jianshu.com/%3Ft%3Dhttps%3A//www.shiyanlou.com/courses/678',\n",
       " 'https://link.zhihu.com/?target=https%3A//link.jianshu.com/%3Ft%3Dhttps%3A//www.shiyanlou.com/courses/679',\n",
       " 'https://link.zhihu.com/?target=https%3A//link.jianshu.com/%3Ft%3Dhttps%3A//www.shiyanlou.com/courses/683',\n",
       " 'https://link.zhihu.com/?target=https%3A//link.jianshu.com/%3Ft%3Dhttps%3A//www.shiyanlou.com/courses/686',\n",
       " 'https://link.zhihu.com/?target=https%3A//link.jianshu.com/%3Ft%3Dhttps%3A//www.shiyanlou.com/courses/688',\n",
       " 'https://link.zhihu.com/?target=https%3A//link.jianshu.com/%3Ft%3Dhttps%3A//www.shiyanlou.com/courses/70',\n",
       " 'https://link.zhihu.com/?target=https%3A//link.jianshu.com/%3Ft%3Dhttps%3A//www.shiyanlou.com/courses/705',\n",
       " 'https://link.zhihu.com/?target=https%3A//link.jianshu.com/%3Ft%3Dhttps%3A//www.shiyanlou.com/courses/707',\n",
       " 'https://link.zhihu.com/?target=https%3A//link.jianshu.com/%3Ft%3Dhttps%3A//www.shiyanlou.com/courses/708',\n",
       " 'https://link.zhihu.com/?target=https%3A//link.jianshu.com/%3Ft%3Dhttps%3A//www.shiyanlou.com/courses/712',\n",
       " 'https://link.zhihu.com/?target=https%3A//link.jianshu.com/%3Ft%3Dhttps%3A//www.shiyanlou.com/courses/714',\n",
       " 'https://link.zhihu.com/?target=https%3A//link.jianshu.com/%3Ft%3Dhttps%3A//www.shiyanlou.com/courses/725',\n",
       " 'https://link.zhihu.com/?target=https%3A//link.jianshu.com/%3Ft%3Dhttps%3A//www.shiyanlou.com/courses/728',\n",
       " 'https://link.zhihu.com/?target=https%3A//link.jianshu.com/%3Ft%3Dhttps%3A//www.shiyanlou.com/courses/729',\n",
       " 'https://link.zhihu.com/?target=https%3A//link.jianshu.com/%3Ft%3Dhttps%3A//www.shiyanlou.com/courses/734',\n",
       " 'https://link.zhihu.com/?target=https%3A//link.jianshu.com/%3Ft%3Dhttps%3A//www.shiyanlou.com/courses/741',\n",
       " 'https://link.zhihu.com/?target=https%3A//link.jianshu.com/%3Ft%3Dhttps%3A//www.shiyanlou.com/courses/746',\n",
       " 'https://link.zhihu.com/?target=https%3A//link.jianshu.com/%3Ft%3Dhttps%3A//www.shiyanlou.com/courses/756',\n",
       " 'https://link.zhihu.com/?target=https%3A//link.jianshu.com/%3Ft%3Dhttps%3A//www.shiyanlou.com/courses/761',\n",
       " 'https://link.zhihu.com/?target=https%3A//link.jianshu.com/%3Ft%3Dhttps%3A//www.shiyanlou.com/courses/769',\n",
       " 'https://link.zhihu.com/?target=https%3A//link.jianshu.com/%3Ft%3Dhttps%3A//www.shiyanlou.com/courses/776',\n",
       " 'https://link.zhihu.com/?target=https%3A//link.jianshu.com/%3Ft%3Dhttps%3A//www.shiyanlou.com/courses/777',\n",
       " 'https://link.zhihu.com/?target=https%3A//link.jianshu.com/%3Ft%3Dhttps%3A//www.shiyanlou.com/courses/778',\n",
       " 'https://link.zhihu.com/?target=https%3A//link.jianshu.com/%3Ft%3Dhttps%3A//www.shiyanlou.com/courses/780',\n",
       " 'https://link.zhihu.com/?target=https%3A//link.jianshu.com/%3Ft%3Dhttps%3A//www.shiyanlou.com/courses/782',\n",
       " 'https://link.zhihu.com/?target=https%3A//link.jianshu.com/%3Ft%3Dhttps%3A//www.shiyanlou.com/courses/789',\n",
       " 'https://link.zhihu.com/?target=https%3A//link.jianshu.com/%3Ft%3Dhttps%3A//www.shiyanlou.com/courses/791',\n",
       " 'https://link.zhihu.com/?target=https%3A//link.jianshu.com/%3Ft%3Dhttps%3A//www.shiyanlou.com/courses/81',\n",
       " 'https://link.zhihu.com/?target=https%3A//link.jianshu.com/%3Ft%3Dhttps%3A//www.shiyanlou.com/courses/813',\n",
       " 'https://link.zhihu.com/?target=https%3A//link.jianshu.com/%3Ft%3Dhttps%3A//www.shiyanlou.com/courses/814',\n",
       " 'https://link.zhihu.com/?target=https%3A//link.jianshu.com/%3Ft%3Dhttps%3A//www.shiyanlou.com/courses/828',\n",
       " 'https://link.zhihu.com/?target=https%3A//www.jianshu.com/p/b577a1655144'}"
      ]
     },
     "execution_count": 85,
     "metadata": {},
     "output_type": "execute_result"
    }
   ],
   "source": [
    "r.html.links #抓取所有连接"
   ]
  },
  {
   "cell_type": "code",
   "execution_count": 9,
   "metadata": {},
   "outputs": [
    {
     "data": {
      "text/plain": [
       "{'http://oejqwrqkh.bkt.clouddn.com/2016-10-11-22-26-16.jpg',\n",
       " 'https://www.jianshu.com/',\n",
       " 'https://www.jianshu.com/apps?utm_medium=desktop&utm_source=navbar-apps',\n",
       " 'https://www.jianshu.com/nb/130182',\n",
       " 'https://www.jianshu.com/p/0c782715e58a',\n",
       " 'https://www.jianshu.com/p/0db025ebf0a1',\n",
       " 'https://www.jianshu.com/p/13d356e76659',\n",
       " 'https://www.jianshu.com/p/29aa3ad63f9d',\n",
       " 'https://www.jianshu.com/p/30b4fa6793f6',\n",
       " 'https://www.jianshu.com/p/31939ee6f1c9',\n",
       " 'https://www.jianshu.com/p/3678e3dd29f5',\n",
       " 'https://www.jianshu.com/p/424e1c65f424',\n",
       " 'https://www.jianshu.com/p/4ea083874df4',\n",
       " 'https://www.jianshu.com/p/67a71e366516',\n",
       " 'https://www.jianshu.com/p/6fe5c75a8aa5',\n",
       " 'https://www.jianshu.com/p/721190534061',\n",
       " 'https://www.jianshu.com/p/772740d57576',\n",
       " 'https://www.jianshu.com/p/7c08e9d79514',\n",
       " 'https://www.jianshu.com/p/85f4624485b9',\n",
       " 'https://www.jianshu.com/p/8e2dc69f518e',\n",
       " 'https://www.jianshu.com/p/94e6778937ea',\n",
       " 'https://www.jianshu.com/p/a2924231037c',\n",
       " 'https://www.jianshu.com/p/a5d95de90fd1',\n",
       " 'https://www.jianshu.com/p/af6201d2f0c6',\n",
       " 'https://www.jianshu.com/p/afea092dda1d',\n",
       " 'https://www.jianshu.com/p/ba02079ecd2f',\n",
       " 'https://www.jianshu.com/p/c2e030187495',\n",
       " 'https://www.jianshu.com/p/c887c035d49f',\n",
       " 'https://www.jianshu.com/p/cdbed82a34bc',\n",
       " 'https://www.jianshu.com/p/cf383fd471bb',\n",
       " 'https://www.jianshu.com/p/d50a14541d01',\n",
       " 'https://www.jianshu.com/p/e3f52e0860fd',\n",
       " 'https://www.jianshu.com/p/e4b24a734ccc',\n",
       " 'https://www.jianshu.com/p/eebf9a13c52a',\n",
       " 'https://www.jianshu.com/p/fdde9fc03f94',\n",
       " 'https://www.jianshu.com/p/fe114409daaf',\n",
       " 'https://www.jianshu.com/p/feb615cd9509',\n",
       " 'https://www.jianshu.com/sign_in',\n",
       " 'https://www.jianshu.com/sign_up',\n",
       " 'https://www.jianshu.com/u/185a3c553fc6',\n",
       " 'https://www.jianshu.com/u/2c67926c48ce',\n",
       " 'https://www.jianshu.com/u/7618ab4a30e4',\n",
       " 'https://www.jianshu.com/u/7ad6761b3975',\n",
       " 'https://www.jianshu.com/u/bee5cb8bfbaf',\n",
       " 'https://www.jianshu.com/u/cbeeef68e4ea',\n",
       " 'https://www.jianshu.com/writer'}"
      ]
     },
     "execution_count": 9,
     "metadata": {},
     "output_type": "execute_result"
    }
   ],
   "source": [
    "r.html.absolute_links #可以直接访问的连接"
   ]
  },
  {
   "cell_type": "code",
   "execution_count": 86,
   "metadata": {},
   "outputs": [],
   "source": [
    "sel = '#root > div > main > div > article > div.Post-RichTextContainer > div > p > a' #提取特定连接"
   ]
  },
  {
   "cell_type": "code",
   "execution_count": 87,
   "metadata": {},
   "outputs": [
    {
     "data": {
      "text/plain": [
       "'【Python 图片转字符画】'"
      ]
     },
     "execution_count": 87,
     "metadata": {},
     "output_type": "execute_result"
    }
   ],
   "source": [
    "results = r.html.find(sel)\n",
    "results\n",
    "results[0].text #连接对应名称"
   ]
  },
  {
   "cell_type": "code",
   "execution_count": 88,
   "metadata": {
    "scrolled": true
   },
   "outputs": [
    {
     "data": {
      "text/plain": [
       "'https://link.zhihu.com/?target=https%3A//link.jianshu.com/%3Ft%3Dhttps%3A//www.shiyanlou.com/courses/370'"
      ]
     },
     "execution_count": 88,
     "metadata": {},
     "output_type": "execute_result"
    }
   ],
   "source": [
    "list(results[0].absolute_links)[0]"
   ]
  },
  {
   "cell_type": "code",
   "execution_count": 89,
   "metadata": {},
   "outputs": [],
   "source": [
    "def get_text_link_from_sel(sel):\n",
    "    mylist = []\n",
    "    try:\n",
    "        result = r.html.find(sel)\n",
    "        for result in results:\n",
    "            mytext = result.text\n",
    "            mylink = list(result.absolute_links)[0]\n",
    "            mylist.append((mytext, mylink))\n",
    "        return mylist\n",
    "    except:\n",
    "        return None"
   ]
  },
  {
   "cell_type": "code",
   "execution_count": 90,
   "metadata": {},
   "outputs": [
    {
     "name": "stdout",
     "output_type": "stream",
     "text": [
      "[('【Python 图片转字符画】', 'https://link.zhihu.com/?target=https%3A//link.jianshu.com/%3Ft%3Dhttps%3A//www.shiyanlou.com/courses/370'), ('【200行Python代码实现2048】', 'https://link.zhihu.com/?target=https%3A//link.jianshu.com/%3Ft%3Dhttps%3A//www.shiyanlou.com/courses/368'), ('【Python3 实现火车票查询工具】', 'https://link.zhihu.com/?target=https%3A//link.jianshu.com/%3Ft%3Dhttps%3A//www.shiyanlou.com/courses/623'), ('【高德API+Python解决租房问题 】', 'https://link.zhihu.com/?target=https%3A//link.jianshu.com/%3Ft%3Dhttps%3A//www.shiyanlou.com/courses/599'), ('【Python3 色情图片识别】', 'https://link.zhihu.com/?target=https%3A//link.jianshu.com/%3Ft%3Dhttps%3A//www.shiyanlou.com/courses/589'), ('【Python 破解验证码】', 'https://link.zhihu.com/?target=https%3A//link.jianshu.com/%3Ft%3Dhttps%3A//www.shiyanlou.com/courses/364'), ('【Python实现简单的Web服务器】', 'https://link.zhihu.com/?target=https%3A//link.jianshu.com/%3Ft%3Dhttps%3A//www.shiyanlou.com/courses/552'), ('【pygame开发打飞机游戏】', 'https://link.zhihu.com/?target=https%3A//link.jianshu.com/%3Ft%3Dhttps%3A//www.shiyanlou.com/courses/49'), ('【Django 搭建简易博客】', 'https://link.zhihu.com/?target=https%3A//link.jianshu.com/%3Ft%3Dhttps%3A//www.shiyanlou.com/courses/487'), ('【Python基于共现提取《釜山行》人物关系】', 'https://link.zhihu.com/?target=https%3A//link.jianshu.com/%3Ft%3Dhttps%3A//www.shiyanlou.com/courses/677'), ('【基于scrapy爬虫的天气数据采集(python)】', 'https://link.zhihu.com/?target=https%3A//link.jianshu.com/%3Ft%3Dhttps%3A//www.shiyanlou.com/courses/142'), ('【Flask 开发轻博客】', 'https://link.zhihu.com/?target=https%3A//link.jianshu.com/%3Ft%3Dhttps%3A//www.shiyanlou.com/courses/31'), ('【Python3 图片隐写术】', 'https://link.zhihu.com/?target=https%3A//link.jianshu.com/%3Ft%3Dhttps%3A//www.shiyanlou.com/courses/651'), ('【Python 实现简易 Shell】', 'https://link.zhihu.com/?target=https%3A//link.jianshu.com/%3Ft%3Dhttps%3A//www.shiyanlou.com/courses/647'), ('【使用 Python 解数学方程】', 'https://link.zhihu.com/?target=https%3A//link.jianshu.com/%3Ft%3Dhttps%3A//www.shiyanlou.com/courses/729'), ('【PyQt 实现简易浏览器】', 'https://link.zhihu.com/?target=https%3A//link.jianshu.com/%3Ft%3Dhttps%3A//www.shiyanlou.com/courses/705'), ('【神经网络实现手写字符识别系统 】', 'https://link.zhihu.com/?target=https%3A//link.jianshu.com/%3Ft%3Dhttps%3A//www.shiyanlou.com/courses/593'), ('【Python 实现简单画板】', 'https://link.zhihu.com/?target=https%3A//link.jianshu.com/%3Ft%3Dhttps%3A//www.shiyanlou.com/courses/674'), ('【Python实现3D建模工具】', 'https://link.zhihu.com/?target=https%3A//link.jianshu.com/%3Ft%3Dhttps%3A//www.shiyanlou.com/courses/561'), ('【NBA常规赛结果预测——利用Python进行比赛数据分析】', 'https://link.zhihu.com/?target=https%3A//link.jianshu.com/%3Ft%3Dhttps%3A//www.shiyanlou.com/courses/782'), ('【神经网络实现人脸识别任务】', 'https://link.zhihu.com/?target=https%3A//link.jianshu.com/%3Ft%3Dhttps%3A//www.shiyanlou.com/courses/707'), ('【Python文本解析器】', 'https://link.zhihu.com/?target=https%3A//link.jianshu.com/%3Ft%3Dhttps%3A//www.shiyanlou.com/courses/70'), ('【Python3 & OpenCV 视频转字符动画】', 'https://link.zhihu.com/?target=https%3A//link.jianshu.com/%3Ft%3Dhttps%3A//www.shiyanlou.com/courses/637'), ('【Python3 实现淘女郎照片爬虫 】', 'https://link.zhihu.com/?target=https%3A//link.jianshu.com/%3Ft%3Dhttps%3A//www.shiyanlou.com/courses/595'), ('【Python3实现简单的FTP认证服务器】', 'https://link.zhihu.com/?target=https%3A//link.jianshu.com/%3Ft%3Dhttps%3A//www.shiyanlou.com/courses/725'), ('【基于 Flask 与 MySQL 实现番剧推荐系统】', 'https://link.zhihu.com/?target=https%3A//link.jianshu.com/%3Ft%3Dhttps%3A//www.shiyanlou.com/courses/633'), ('【Python 实现端口扫描器】', 'https://link.zhihu.com/?target=https%3A//link.jianshu.com/%3Ft%3Dhttps%3A//www.shiyanlou.com/courses/495'), ('【使用 Python 3 编写系列实用脚本】', 'https://link.zhihu.com/?target=https%3A//link.jianshu.com/%3Ft%3Dhttps%3A//www.shiyanlou.com/courses/580'), ('【Python 实现康威生命游戏】', 'https://link.zhihu.com/?target=https%3A//link.jianshu.com/%3Ft%3Dhttps%3A//www.shiyanlou.com/courses/769'), ('【川普撞脸希拉里(基于 OpenCV 的面部特征交换) 】', 'https://link.zhihu.com/?target=https%3A//link.jianshu.com/%3Ft%3Dhttps%3A//www.shiyanlou.com/courses/686'), ('【Python 3 实现 Markdown 解析器】', 'https://link.zhihu.com/?target=https%3A//link.jianshu.com/%3Ft%3Dhttps%3A//www.shiyanlou.com/courses/708'), ('【Python 气象数据分析 -- 《Python 数据分析实战》】', 'https://link.zhihu.com/?target=https%3A//link.jianshu.com/%3Ft%3Dhttps%3A//www.shiyanlou.com/courses/780'), ('【Python实现键值数据库】', 'https://link.zhihu.com/?target=https%3A//link.jianshu.com/%3Ft%3Dhttps%3A//www.shiyanlou.com/courses/614'), ('【k-近邻算法实现手写数字识别系统】', 'https://link.zhihu.com/?target=https%3A//link.jianshu.com/%3Ft%3Dhttps%3A//www.shiyanlou.com/courses/777'), ('【ebay在线拍卖数据分析】', 'https://link.zhihu.com/?target=https%3A//link.jianshu.com/%3Ft%3Dhttps%3A//www.shiyanlou.com/courses/714'), ('【Python 实现英文新闻摘要自动提取 】', 'https://link.zhihu.com/?target=https%3A//link.jianshu.com/%3Ft%3Dhttps%3A//www.shiyanlou.com/courses/741'), ('【Python实现简易局域网视频聊天工具】', 'https://link.zhihu.com/?target=https%3A//link.jianshu.com/%3Ft%3Dhttps%3A//www.shiyanlou.com/courses/672'), ('【基于 Flask 及爬虫实现微信娱乐机器人】', 'https://link.zhihu.com/?target=https%3A//link.jianshu.com/%3Ft%3Dhttps%3A//www.shiyanlou.com/courses/581'), ('【Python实现Python解释器】', 'https://link.zhihu.com/?target=https%3A//link.jianshu.com/%3Ft%3Dhttps%3A//www.shiyanlou.com/courses/554'), ('【Python3基于Scapy实现DDos】', 'https://link.zhihu.com/?target=https%3A//link.jianshu.com/%3Ft%3Dhttps%3A//www.shiyanlou.com/courses/683'), ('【Python 实现密码强度检测器】', 'https://link.zhihu.com/?target=https%3A//link.jianshu.com/%3Ft%3Dhttps%3A//www.shiyanlou.com/courses/712'), ('【使用 Python 实现深度神经网络】', 'https://link.zhihu.com/?target=https%3A//link.jianshu.com/%3Ft%3Dhttps%3A//www.shiyanlou.com/courses/814'), ('【Python实现从excel读取数据并绘制成精美图像】', 'https://link.zhihu.com/?target=https%3A//link.jianshu.com/%3Ft%3Dhttps%3A//www.shiyanlou.com/courses/791'), ('【人机对战初体验:Python基于Pygame实现四子棋游戏】', 'https://link.zhihu.com/?target=https%3A//link.jianshu.com/%3Ft%3Dhttps%3A//www.shiyanlou.com/courses/746'), ('【Python3 实现可控制肉鸡的反向Shell】', 'https://link.zhihu.com/?target=https%3A//link.jianshu.com/%3Ft%3Dhttps%3A//www.shiyanlou.com/courses/594'), ('【Python打造漏洞扫描器 】', 'https://link.zhihu.com/?target=https%3A//link.jianshu.com/%3Ft%3Dhttps%3A//www.shiyanlou.com/courses/761'), ('【Python应用马尔可夫链算法实现随机文本生成】', 'https://link.zhihu.com/?target=https%3A//link.jianshu.com/%3Ft%3Dhttps%3A//www.shiyanlou.com/courses/678'), ('【数独游戏的Python实现与破解】', 'https://link.zhihu.com/?target=https%3A//link.jianshu.com/%3Ft%3Dhttps%3A//www.shiyanlou.com/courses/728'), ('【使用Python定制词云】', 'https://link.zhihu.com/?target=https%3A//link.jianshu.com/%3Ft%3Dhttps%3A//www.shiyanlou.com/courses/756'), ('【Python开发简单计算器】', 'https://link.zhihu.com/?target=https%3A//link.jianshu.com/%3Ft%3Dhttps%3A//www.shiyanlou.com/courses/60'), ('【Python 实现 FTP 弱口令扫描器】', 'https://link.zhihu.com/?target=https%3A//link.jianshu.com/%3Ft%3Dhttps%3A//www.shiyanlou.com/courses/579'), ('【Python实现Huffman编码解压缩文件】', 'https://link.zhihu.com/?target=https%3A//link.jianshu.com/%3Ft%3Dhttps%3A//www.shiyanlou.com/courses/734'), ('【Python实现Zip文件的暴力破解 】', 'https://link.zhihu.com/?target=https%3A//link.jianshu.com/%3Ft%3Dhttps%3A//www.shiyanlou.com/courses/636'), ('【Python3 智能裁切图片】', 'https://link.zhihu.com/?target=https%3A//link.jianshu.com/%3Ft%3Dhttps%3A//www.shiyanlou.com/courses/655'), ('【Python实现网站模拟登陆】', 'https://link.zhihu.com/?target=https%3A//link.jianshu.com/%3Ft%3Dhttps%3A//www.shiyanlou.com/courses/640'), ('【给Python3爬虫做一个界面.妹子图网实战】', 'https://link.zhihu.com/?target=https%3A//link.jianshu.com/%3Ft%3Dhttps%3A//www.shiyanlou.com/courses/813'), ('【Python 3 实现图片转彩色字符】', 'https://link.zhihu.com/?target=https%3A//link.jianshu.com/%3Ft%3Dhttps%3A//www.shiyanlou.com/courses/673'), ('【自联想器的 Python 实现】', 'https://link.zhihu.com/?target=https%3A//link.jianshu.com/%3Ft%3Dhttps%3A//www.shiyanlou.com/courses/679'), ('【Python 实现简单滤镜】', 'https://link.zhihu.com/?target=https%3A//link.jianshu.com/%3Ft%3Dhttps%3A//www.shiyanlou.com/courses/688'), ('【Flask 实现简单聊天室】', 'https://link.zhihu.com/?target=https%3A//link.jianshu.com/%3Ft%3Dhttps%3A//www.shiyanlou.com/courses/81'), ('【基于PyQt5 实现地图中定位相片拍摄位置】', 'https://link.zhihu.com/?target=https%3A//link.jianshu.com/%3Ft%3Dhttps%3A//www.shiyanlou.com/courses/604'), ('【Python实现模板引擎】', 'https://link.zhihu.com/?target=https%3A//link.jianshu.com/%3Ft%3Dhttps%3A//www.shiyanlou.com/courses/583'), ('【Python实现遗传算法求解n-queens问题】', 'https://link.zhihu.com/?target=https%3A//link.jianshu.com/%3Ft%3Dhttps%3A//www.shiyanlou.com/courses/776'), ('【Python3 实现命令行动态进度条】', 'https://link.zhihu.com/?target=https%3A//link.jianshu.com/%3Ft%3Dhttps%3A//www.shiyanlou.com/courses/625'), ('【Python 获取挂号信息并邮件通知】', 'https://link.zhihu.com/?target=https%3A//link.jianshu.com/%3Ft%3Dhttps%3A//www.shiyanlou.com/courses/639'), ('【Python实现java web项目远端自动化更新部署】', 'https://link.zhihu.com/?target=https%3A//link.jianshu.com/%3Ft%3Dhttps%3A//www.shiyanlou.com/courses/778'), ('【使用 Python3 编写 Github 自动周报生成器】', 'https://link.zhihu.com/?target=https%3A//link.jianshu.com/%3Ft%3Dhttps%3A//www.shiyanlou.com/courses/789'), ('【使用 Python 生成分形图片】', 'https://link.zhihu.com/?target=https%3A//link.jianshu.com/%3Ft%3Dhttps%3A//www.shiyanlou.com/courses/384'), ('【Python 实现 Redis 异步客户端】', 'https://link.zhihu.com/?target=https%3A//link.jianshu.com/%3Ft%3Dhttps%3A//www.shiyanlou.com/courses/518'), ('【Python 实现中文错别字高亮系统】', 'https://link.zhihu.com/?target=https%3A//link.jianshu.com/%3Ft%3Dhttps%3A//www.shiyanlou.com/courses/828'), ('https://www.jianshu.com/p/b577a1655144', 'https://link.zhihu.com/?target=https%3A//www.jianshu.com/p/b577a1655144')]"
     ]
    },
    {
     "name": "stdout",
     "output_type": "stream",
     "text": [
      "\n"
     ]
    }
   ],
   "source": [
    "print(get_text_link_from_sel(sel))"
   ]
  },
  {
   "cell_type": "code",
   "execution_count": 91,
   "metadata": {},
   "outputs": [],
   "source": [
    "import pandas as pd #数据工具"
   ]
  },
  {
   "cell_type": "code",
   "execution_count": 92,
   "metadata": {},
   "outputs": [],
   "source": [
    "df = pd.DataFrame(get_text_link_from_sel(sel)) #列表变数据框"
   ]
  },
  {
   "cell_type": "code",
   "execution_count": 93,
   "metadata": {},
   "outputs": [
    {
     "data": {
      "text/html": [
       "<div>\n",
       "<style scoped>\n",
       "    .dataframe tbody tr th:only-of-type {\n",
       "        vertical-align: middle;\n",
       "    }\n",
       "\n",
       "    .dataframe tbody tr th {\n",
       "        vertical-align: top;\n",
       "    }\n",
       "\n",
       "    .dataframe thead th {\n",
       "        text-align: right;\n",
       "    }\n",
       "</style>\n",
       "<table border=\"1\" class=\"dataframe\">\n",
       "  <thead>\n",
       "    <tr style=\"text-align: right;\">\n",
       "      <th></th>\n",
       "      <th>0</th>\n",
       "      <th>1</th>\n",
       "    </tr>\n",
       "  </thead>\n",
       "  <tbody>\n",
       "    <tr>\n",
       "      <td>0</td>\n",
       "      <td>【Python 图片转字符画】</td>\n",
       "      <td>https://link.zhihu.com/?target=https%3A//link....</td>\n",
       "    </tr>\n",
       "    <tr>\n",
       "      <td>1</td>\n",
       "      <td>【200行Python代码实现2048】</td>\n",
       "      <td>https://link.zhihu.com/?target=https%3A//link....</td>\n",
       "    </tr>\n",
       "    <tr>\n",
       "      <td>2</td>\n",
       "      <td>【Python3 实现火车票查询工具】</td>\n",
       "      <td>https://link.zhihu.com/?target=https%3A//link....</td>\n",
       "    </tr>\n",
       "    <tr>\n",
       "      <td>3</td>\n",
       "      <td>【高德API+Python解决租房问题 】</td>\n",
       "      <td>https://link.zhihu.com/?target=https%3A//link....</td>\n",
       "    </tr>\n",
       "    <tr>\n",
       "      <td>4</td>\n",
       "      <td>【Python3 色情图片识别】</td>\n",
       "      <td>https://link.zhihu.com/?target=https%3A//link....</td>\n",
       "    </tr>\n",
       "    <tr>\n",
       "      <td>...</td>\n",
       "      <td>...</td>\n",
       "      <td>...</td>\n",
       "    </tr>\n",
       "    <tr>\n",
       "      <td>66</td>\n",
       "      <td>【使用 Python3 编写 Github 自动周报生成器】</td>\n",
       "      <td>https://link.zhihu.com/?target=https%3A//link....</td>\n",
       "    </tr>\n",
       "    <tr>\n",
       "      <td>67</td>\n",
       "      <td>【使用 Python 生成分形图片】</td>\n",
       "      <td>https://link.zhihu.com/?target=https%3A//link....</td>\n",
       "    </tr>\n",
       "    <tr>\n",
       "      <td>68</td>\n",
       "      <td>【Python 实现 Redis 异步客户端】</td>\n",
       "      <td>https://link.zhihu.com/?target=https%3A//link....</td>\n",
       "    </tr>\n",
       "    <tr>\n",
       "      <td>69</td>\n",
       "      <td>【Python 实现中文错别字高亮系统】</td>\n",
       "      <td>https://link.zhihu.com/?target=https%3A//link....</td>\n",
       "    </tr>\n",
       "    <tr>\n",
       "      <td>70</td>\n",
       "      <td>https://www.jianshu.com/p/b577a1655144</td>\n",
       "      <td>https://link.zhihu.com/?target=https%3A//www.j...</td>\n",
       "    </tr>\n",
       "  </tbody>\n",
       "</table>\n",
       "<p>71 rows × 2 columns</p>\n",
       "</div>"
      ],
      "text/plain": [
       "                                         0  \\\n",
       "0                          【Python 图片转字符画】   \n",
       "1                     【200行Python代码实现2048】   \n",
       "2                      【Python3 实现火车票查询工具】   \n",
       "3                    【高德API+Python解决租房问题 】   \n",
       "4                         【Python3 色情图片识别】   \n",
       "..                                     ...   \n",
       "66          【使用 Python3 编写 Github 自动周报生成器】   \n",
       "67                      【使用 Python 生成分形图片】   \n",
       "68                 【Python 实现 Redis 异步客户端】   \n",
       "69                    【Python 实现中文错别字高亮系统】   \n",
       "70  https://www.jianshu.com/p/b577a1655144   \n",
       "\n",
       "                                                    1  \n",
       "0   https://link.zhihu.com/?target=https%3A//link....  \n",
       "1   https://link.zhihu.com/?target=https%3A//link....  \n",
       "2   https://link.zhihu.com/?target=https%3A//link....  \n",
       "3   https://link.zhihu.com/?target=https%3A//link....  \n",
       "4   https://link.zhihu.com/?target=https%3A//link....  \n",
       "..                                                ...  \n",
       "66  https://link.zhihu.com/?target=https%3A//link....  \n",
       "67  https://link.zhihu.com/?target=https%3A//link....  \n",
       "68  https://link.zhihu.com/?target=https%3A//link....  \n",
       "69  https://link.zhihu.com/?target=https%3A//link....  \n",
       "70  https://link.zhihu.com/?target=https%3A//www.j...  \n",
       "\n",
       "[71 rows x 2 columns]"
      ]
     },
     "execution_count": 93,
     "metadata": {},
     "output_type": "execute_result"
    }
   ],
   "source": [
    "df"
   ]
  },
  {
   "cell_type": "code",
   "execution_count": 96,
   "metadata": {},
   "outputs": [],
   "source": [
    "df.columns = ['title', 'link'] #修改head名称"
   ]
  },
  {
   "cell_type": "code",
   "execution_count": 94,
   "metadata": {},
   "outputs": [
    {
     "data": {
      "text/html": [
       "<div>\n",
       "<style scoped>\n",
       "    .dataframe tbody tr th:only-of-type {\n",
       "        vertical-align: middle;\n",
       "    }\n",
       "\n",
       "    .dataframe tbody tr th {\n",
       "        vertical-align: top;\n",
       "    }\n",
       "\n",
       "    .dataframe thead th {\n",
       "        text-align: right;\n",
       "    }\n",
       "</style>\n",
       "<table border=\"1\" class=\"dataframe\">\n",
       "  <thead>\n",
       "    <tr style=\"text-align: right;\">\n",
       "      <th></th>\n",
       "      <th>0</th>\n",
       "      <th>1</th>\n",
       "    </tr>\n",
       "  </thead>\n",
       "  <tbody>\n",
       "    <tr>\n",
       "      <td>0</td>\n",
       "      <td>【Python 图片转字符画】</td>\n",
       "      <td>https://link.zhihu.com/?target=https%3A//link....</td>\n",
       "    </tr>\n",
       "    <tr>\n",
       "      <td>1</td>\n",
       "      <td>【200行Python代码实现2048】</td>\n",
       "      <td>https://link.zhihu.com/?target=https%3A//link....</td>\n",
       "    </tr>\n",
       "    <tr>\n",
       "      <td>2</td>\n",
       "      <td>【Python3 实现火车票查询工具】</td>\n",
       "      <td>https://link.zhihu.com/?target=https%3A//link....</td>\n",
       "    </tr>\n",
       "    <tr>\n",
       "      <td>3</td>\n",
       "      <td>【高德API+Python解决租房问题 】</td>\n",
       "      <td>https://link.zhihu.com/?target=https%3A//link....</td>\n",
       "    </tr>\n",
       "    <tr>\n",
       "      <td>4</td>\n",
       "      <td>【Python3 色情图片识别】</td>\n",
       "      <td>https://link.zhihu.com/?target=https%3A//link....</td>\n",
       "    </tr>\n",
       "    <tr>\n",
       "      <td>...</td>\n",
       "      <td>...</td>\n",
       "      <td>...</td>\n",
       "    </tr>\n",
       "    <tr>\n",
       "      <td>66</td>\n",
       "      <td>【使用 Python3 编写 Github 自动周报生成器】</td>\n",
       "      <td>https://link.zhihu.com/?target=https%3A//link....</td>\n",
       "    </tr>\n",
       "    <tr>\n",
       "      <td>67</td>\n",
       "      <td>【使用 Python 生成分形图片】</td>\n",
       "      <td>https://link.zhihu.com/?target=https%3A//link....</td>\n",
       "    </tr>\n",
       "    <tr>\n",
       "      <td>68</td>\n",
       "      <td>【Python 实现 Redis 异步客户端】</td>\n",
       "      <td>https://link.zhihu.com/?target=https%3A//link....</td>\n",
       "    </tr>\n",
       "    <tr>\n",
       "      <td>69</td>\n",
       "      <td>【Python 实现中文错别字高亮系统】</td>\n",
       "      <td>https://link.zhihu.com/?target=https%3A//link....</td>\n",
       "    </tr>\n",
       "    <tr>\n",
       "      <td>70</td>\n",
       "      <td>https://www.jianshu.com/p/b577a1655144</td>\n",
       "      <td>https://link.zhihu.com/?target=https%3A//www.j...</td>\n",
       "    </tr>\n",
       "  </tbody>\n",
       "</table>\n",
       "<p>71 rows × 2 columns</p>\n",
       "</div>"
      ],
      "text/plain": [
       "                                         0  \\\n",
       "0                          【Python 图片转字符画】   \n",
       "1                     【200行Python代码实现2048】   \n",
       "2                      【Python3 实现火车票查询工具】   \n",
       "3                    【高德API+Python解决租房问题 】   \n",
       "4                         【Python3 色情图片识别】   \n",
       "..                                     ...   \n",
       "66          【使用 Python3 编写 Github 自动周报生成器】   \n",
       "67                      【使用 Python 生成分形图片】   \n",
       "68                 【Python 实现 Redis 异步客户端】   \n",
       "69                    【Python 实现中文错别字高亮系统】   \n",
       "70  https://www.jianshu.com/p/b577a1655144   \n",
       "\n",
       "                                                    1  \n",
       "0   https://link.zhihu.com/?target=https%3A//link....  \n",
       "1   https://link.zhihu.com/?target=https%3A//link....  \n",
       "2   https://link.zhihu.com/?target=https%3A//link....  \n",
       "3   https://link.zhihu.com/?target=https%3A//link....  \n",
       "4   https://link.zhihu.com/?target=https%3A//link....  \n",
       "..                                                ...  \n",
       "66  https://link.zhihu.com/?target=https%3A//link....  \n",
       "67  https://link.zhihu.com/?target=https%3A//link....  \n",
       "68  https://link.zhihu.com/?target=https%3A//link....  \n",
       "69  https://link.zhihu.com/?target=https%3A//link....  \n",
       "70  https://link.zhihu.com/?target=https%3A//www.j...  \n",
       "\n",
       "[71 rows x 2 columns]"
      ]
     },
     "execution_count": 94,
     "metadata": {},
     "output_type": "execute_result"
    }
   ],
   "source": [
    "df"
   ]
  },
  {
   "cell_type": "code",
   "execution_count": 97,
   "metadata": {},
   "outputs": [],
   "source": [
    "df.to_csv('Python实战项目列表.csv', encoding = 'gbk', index = False) #转换到Excel，gbk编发防止utf-8乱码"
   ]
  }
 ],
 "metadata": {
  "kernelspec": {
   "display_name": "Python 3",
   "language": "python",
   "name": "python3"
  },
  "language_info": {
   "codemirror_mode": {
    "name": "ipython",
    "version": 3
   },
   "file_extension": ".py",
   "mimetype": "text/x-python",
   "name": "python",
   "nbconvert_exporter": "python",
   "pygments_lexer": "ipython3",
   "version": "3.7.4"
  }
 },
 "nbformat": 4,
 "nbformat_minor": 2
}
